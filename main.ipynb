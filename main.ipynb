{
 "cells": [
  {
   "cell_type": "markdown",
   "source": [
    "Airline Delay Analysis\n",
    "\n",
    "\n",
    "Metadata:\n",
    "YEAR: Year of the Flight Trip\n",
    "MONTH: Month of the Flight Trip\n",
    "DAY: Day of the Flight Trip\n",
    "DAY_OF_WEEK: Day of Week of the Flight Trip\n",
    "AIRLINE: Airline Identifier\n",
    "FLIGHT_NUMBER: Flight Identifier\n",
    "TAIL_NUMBER: Aircraft Identifier\n",
    "ORIGIN_AIRPORT: Starting Airport\n",
    "DESTINATION_AIRPORT: Destination Airport\n",
    "SCHEDULED_DEPARTURE: Planned Departure Time\n",
    "DEPARTURE_TIME: WHEEL_OFF - TAXI_OUT\n",
    "DEPARTURE_DELAY: Total Delay on Departure\n",
    "TAXI_OUT: The time duration elapsed between departure from the origin airport gate and wheels off\n",
    "WHEELS_OFF: The time point that the aircraft's wheels leave the ground\n",
    "SCHEDULED_TIME: Planned time amount needed for the flight trip\n",
    "ELAPSED_TIME: AIR_TIME + TAXI_IN + TAXI_OUT\n",
    "AIR_TIME: The time duration between WHEELS_OFF and WHEELS_ON time\n",
    "DISTANCE: Distance between 2 airports\n",
    "WHEELS_ON: The time point that the aircraft's wheels touch on the ground\n",
    "TAXI_IN: The time duration elapsed between WHEELS_ON and gate arrival at the destination airport\n",
    "SCHEDULED_ARRIVAL: Planned arrival time\n",
    "ARRIVAL_TIME: WHEELS_ON + TAXI_IN\n",
    "ARRIVAL_DELAY: ARRIVAL_TIME - SCHEDULED_ARRIVAL\n",
    "DIVERTED: Aircraft landed on airport that out of schedule\n",
    "CANCELLED: Flight cancelled (1 = cancelled)\n",
    "CANCELLATION_REASON: Reason of cancellation of flight: A - Airline/Carrier, B - Weather, C - National Air System, D - Security\n",
    "AIR_SYSTEM_DELAY: Delay caused by air system\n",
    "SECURITY_DELAY: Delay caused by security\n",
    "AIRLINE_DELAY: Delay caused by the airline\n",
    "LATE_AIRCRAFT_DELAY: Delay caused by the aircraft\n",
    "WEATHER_DELAY: Delay cause by weather\n"
   ],
   "metadata": {
    "collapsed": false
   },
   "id": "b515f31273e14ebf"
  },
  {
   "cell_type": "code",
   "execution_count": 1,
   "outputs": [
    {
     "name": "stdout",
     "output_type": "stream",
     "text": [
      "Requirement already satisfied: imbalanced-learn in /Users/teohkhenghong/mambaforge/envs/mlp/lib/python3.8/site-packages (0.11.0)\r\n",
      "Requirement already satisfied: numpy>=1.17.3 in /Users/teohkhenghong/mambaforge/envs/mlp/lib/python3.8/site-packages (from imbalanced-learn) (1.23.2)\r\n",
      "Requirement already satisfied: scipy>=1.5.0 in /Users/teohkhenghong/mambaforge/envs/mlp/lib/python3.8/site-packages (from imbalanced-learn) (1.10.1)\r\n",
      "Requirement already satisfied: scikit-learn>=1.0.2 in /Users/teohkhenghong/mambaforge/envs/mlp/lib/python3.8/site-packages (from imbalanced-learn) (1.3.2)\r\n",
      "Requirement already satisfied: joblib>=1.1.1 in /Users/teohkhenghong/mambaforge/envs/mlp/lib/python3.8/site-packages (from imbalanced-learn) (1.2.0)\r\n",
      "Requirement already satisfied: threadpoolctl>=2.0.0 in /Users/teohkhenghong/mambaforge/envs/mlp/lib/python3.8/site-packages (from imbalanced-learn) (3.1.0)\r\n",
      "Note: you may need to restart the kernel to use updated packages.\n"
     ]
    }
   ],
   "source": [
    "pip install --upgrade imbalanced-learn"
   ],
   "metadata": {
    "collapsed": false,
    "ExecuteTime": {
     "end_time": "2023-12-17T09:18:17.361256Z",
     "start_time": "2023-12-17T09:18:15.262033Z"
    }
   },
   "id": "b364f4bc1b67ab01"
  },
  {
   "cell_type": "code",
   "execution_count": 2,
   "outputs": [
    {
     "name": "stdout",
     "output_type": "stream",
     "text": [
      "Requirement already satisfied: scikit-learn in /Users/teohkhenghong/mambaforge/envs/mlp/lib/python3.8/site-packages (1.3.2)\r\n",
      "Requirement already satisfied: numpy<2.0,>=1.17.3 in /Users/teohkhenghong/mambaforge/envs/mlp/lib/python3.8/site-packages (from scikit-learn) (1.23.2)\r\n",
      "Requirement already satisfied: scipy>=1.5.0 in /Users/teohkhenghong/mambaforge/envs/mlp/lib/python3.8/site-packages (from scikit-learn) (1.10.1)\r\n",
      "Requirement already satisfied: joblib>=1.1.1 in /Users/teohkhenghong/mambaforge/envs/mlp/lib/python3.8/site-packages (from scikit-learn) (1.2.0)\r\n",
      "Requirement already satisfied: threadpoolctl>=2.0.0 in /Users/teohkhenghong/mambaforge/envs/mlp/lib/python3.8/site-packages (from scikit-learn) (3.1.0)\r\n",
      "Note: you may need to restart the kernel to use updated packages.\n"
     ]
    }
   ],
   "source": [
    "pip install --upgrade scikit-learn"
   ],
   "metadata": {
    "collapsed": false,
    "ExecuteTime": {
     "end_time": "2023-12-17T09:18:19.248616Z",
     "start_time": "2023-12-17T09:18:17.358370Z"
    }
   },
   "id": "b5b9d67f8874612"
  },
  {
   "cell_type": "code",
   "execution_count": 3,
   "outputs": [
    {
     "name": "stdout",
     "output_type": "stream",
     "text": [
      "Requirement already satisfied: ydata-profiling in /Users/teohkhenghong/mambaforge/envs/mlp/lib/python3.8/site-packages (4.6.2)\r\n",
      "Collecting ydata-profiling\r\n",
      "  Downloading ydata_profiling-4.6.3-py2.py3-none-any.whl (357 kB)\r\n",
      "\u001B[2K     \u001B[90m━━━━━━━━━━━━━━━━━━━━━━━━━━━━━━━━━━━━━━━\u001B[0m \u001B[32m357.6/357.6 kB\u001B[0m \u001B[31m4.4 MB/s\u001B[0m eta \u001B[36m0:00:00\u001B[0ma \u001B[36m0:00:01\u001B[0m\r\n",
      "\u001B[?25hRequirement already satisfied: scipy<1.12,>=1.4.1 in /Users/teohkhenghong/mambaforge/envs/mlp/lib/python3.8/site-packages (from ydata-profiling) (1.10.1)\r\n",
      "Requirement already satisfied: pandas!=1.4.0,<3,>1.1 in /Users/teohkhenghong/mambaforge/envs/mlp/lib/python3.8/site-packages (from ydata-profiling) (1.5.3)\r\n",
      "Requirement already satisfied: matplotlib<3.9,>=3.2 in /Users/teohkhenghong/mambaforge/envs/mlp/lib/python3.8/site-packages (from ydata-profiling) (3.7.1)\r\n",
      "Requirement already satisfied: pydantic>=2 in /Users/teohkhenghong/mambaforge/envs/mlp/lib/python3.8/site-packages (from ydata-profiling) (2.5.2)\r\n",
      "Requirement already satisfied: PyYAML<6.1,>=5.0.0 in /Users/teohkhenghong/mambaforge/envs/mlp/lib/python3.8/site-packages (from ydata-profiling) (6.0)\r\n",
      "Requirement already satisfied: jinja2<3.2,>=2.11.1 in /Users/teohkhenghong/mambaforge/envs/mlp/lib/python3.8/site-packages (from ydata-profiling) (3.0.3)\r\n",
      "Requirement already satisfied: visions[type_image_path]==0.7.5 in /Users/teohkhenghong/mambaforge/envs/mlp/lib/python3.8/site-packages (from ydata-profiling) (0.7.5)\r\n",
      "Requirement already satisfied: numpy<1.26,>=1.16.0 in /Users/teohkhenghong/mambaforge/envs/mlp/lib/python3.8/site-packages (from ydata-profiling) (1.23.2)\r\n",
      "Requirement already satisfied: htmlmin==0.1.12 in /Users/teohkhenghong/mambaforge/envs/mlp/lib/python3.8/site-packages (from ydata-profiling) (0.1.12)\r\n",
      "Requirement already satisfied: phik<0.13,>=0.11.1 in /Users/teohkhenghong/mambaforge/envs/mlp/lib/python3.8/site-packages (from ydata-profiling) (0.12.3)\r\n",
      "Requirement already satisfied: requests<3,>=2.24.0 in /Users/teohkhenghong/mambaforge/envs/mlp/lib/python3.8/site-packages (from ydata-profiling) (2.31.0)\r\n",
      "Requirement already satisfied: tqdm<5,>=4.48.2 in /Users/teohkhenghong/mambaforge/envs/mlp/lib/python3.8/site-packages (from ydata-profiling) (4.65.0)\r\n",
      "Requirement already satisfied: seaborn<0.13,>=0.10.1 in /Users/teohkhenghong/mambaforge/envs/mlp/lib/python3.8/site-packages (from ydata-profiling) (0.12.2)\r\n",
      "Requirement already satisfied: multimethod<2,>=1.4 in /Users/teohkhenghong/mambaforge/envs/mlp/lib/python3.8/site-packages (from ydata-profiling) (1.10)\r\n",
      "Requirement already satisfied: statsmodels<1,>=0.13.2 in /Users/teohkhenghong/mambaforge/envs/mlp/lib/python3.8/site-packages (from ydata-profiling) (0.14.0)\r\n",
      "Requirement already satisfied: typeguard<5,>=4.1.2 in /Users/teohkhenghong/mambaforge/envs/mlp/lib/python3.8/site-packages (from ydata-profiling) (4.1.5)\r\n",
      "Requirement already satisfied: imagehash==4.3.1 in /Users/teohkhenghong/mambaforge/envs/mlp/lib/python3.8/site-packages (from ydata-profiling) (4.3.1)\r\n",
      "Requirement already satisfied: wordcloud>=1.9.1 in /Users/teohkhenghong/mambaforge/envs/mlp/lib/python3.8/site-packages (from ydata-profiling) (1.9.2)\r\n",
      "Requirement already satisfied: dacite>=1.8 in /Users/teohkhenghong/mambaforge/envs/mlp/lib/python3.8/site-packages (from ydata-profiling) (1.8.1)\r\n",
      "Requirement already satisfied: numba<0.59.0,>=0.56.0 in /Users/teohkhenghong/mambaforge/envs/mlp/lib/python3.8/site-packages (from ydata-profiling) (0.57.0)\r\n",
      "Requirement already satisfied: PyWavelets in /Users/teohkhenghong/mambaforge/envs/mlp/lib/python3.8/site-packages (from imagehash==4.3.1->ydata-profiling) (1.4.1)\r\n",
      "Requirement already satisfied: pillow in /Users/teohkhenghong/mambaforge/envs/mlp/lib/python3.8/site-packages (from imagehash==4.3.1->ydata-profiling) (9.5.0)\r\n",
      "Requirement already satisfied: attrs>=19.3.0 in /Users/teohkhenghong/mambaforge/envs/mlp/lib/python3.8/site-packages (from visions[type_image_path]==0.7.5->ydata-profiling) (23.1.0)\r\n",
      "Requirement already satisfied: networkx>=2.4 in /Users/teohkhenghong/mambaforge/envs/mlp/lib/python3.8/site-packages (from visions[type_image_path]==0.7.5->ydata-profiling) (3.1)\r\n",
      "Requirement already satisfied: tangled-up-in-unicode>=0.0.4 in /Users/teohkhenghong/mambaforge/envs/mlp/lib/python3.8/site-packages (from visions[type_image_path]==0.7.5->ydata-profiling) (0.2.0)\r\n",
      "Requirement already satisfied: MarkupSafe>=2.0 in /Users/teohkhenghong/mambaforge/envs/mlp/lib/python3.8/site-packages (from jinja2<3.2,>=2.11.1->ydata-profiling) (2.1.3)\r\n",
      "Requirement already satisfied: contourpy>=1.0.1 in /Users/teohkhenghong/mambaforge/envs/mlp/lib/python3.8/site-packages (from matplotlib<3.9,>=3.2->ydata-profiling) (1.1.0)\r\n",
      "Requirement already satisfied: cycler>=0.10 in /Users/teohkhenghong/mambaforge/envs/mlp/lib/python3.8/site-packages (from matplotlib<3.9,>=3.2->ydata-profiling) (0.11.0)\r\n",
      "Requirement already satisfied: fonttools>=4.22.0 in /Users/teohkhenghong/mambaforge/envs/mlp/lib/python3.8/site-packages (from matplotlib<3.9,>=3.2->ydata-profiling) (4.40.0)\r\n",
      "Requirement already satisfied: kiwisolver>=1.0.1 in /Users/teohkhenghong/mambaforge/envs/mlp/lib/python3.8/site-packages (from matplotlib<3.9,>=3.2->ydata-profiling) (1.4.4)\r\n",
      "Requirement already satisfied: packaging>=20.0 in /Users/teohkhenghong/mambaforge/envs/mlp/lib/python3.8/site-packages (from matplotlib<3.9,>=3.2->ydata-profiling) (23.1)\r\n",
      "Requirement already satisfied: pyparsing>=2.3.1 in /Users/teohkhenghong/mambaforge/envs/mlp/lib/python3.8/site-packages (from matplotlib<3.9,>=3.2->ydata-profiling) (3.0.9)\r\n",
      "Requirement already satisfied: python-dateutil>=2.7 in /Users/teohkhenghong/mambaforge/envs/mlp/lib/python3.8/site-packages (from matplotlib<3.9,>=3.2->ydata-profiling) (2.8.2)\r\n",
      "Requirement already satisfied: importlib-resources>=3.2.0 in /Users/teohkhenghong/mambaforge/envs/mlp/lib/python3.8/site-packages (from matplotlib<3.9,>=3.2->ydata-profiling) (5.12.0)\r\n",
      "Requirement already satisfied: llvmlite<0.41,>=0.40.0dev0 in /Users/teohkhenghong/mambaforge/envs/mlp/lib/python3.8/site-packages (from numba<0.59.0,>=0.56.0->ydata-profiling) (0.40.0)\r\n",
      "Requirement already satisfied: importlib-metadata in /Users/teohkhenghong/mambaforge/envs/mlp/lib/python3.8/site-packages (from numba<0.59.0,>=0.56.0->ydata-profiling) (6.6.0)\r\n",
      "Requirement already satisfied: pytz>=2020.1 in /Users/teohkhenghong/mambaforge/envs/mlp/lib/python3.8/site-packages (from pandas!=1.4.0,<3,>1.1->ydata-profiling) (2023.3)\r\n",
      "Requirement already satisfied: joblib>=0.14.1 in /Users/teohkhenghong/mambaforge/envs/mlp/lib/python3.8/site-packages (from phik<0.13,>=0.11.1->ydata-profiling) (1.2.0)\r\n",
      "Requirement already satisfied: annotated-types>=0.4.0 in /Users/teohkhenghong/mambaforge/envs/mlp/lib/python3.8/site-packages (from pydantic>=2->ydata-profiling) (0.6.0)\r\n",
      "Requirement already satisfied: pydantic-core==2.14.5 in /Users/teohkhenghong/mambaforge/envs/mlp/lib/python3.8/site-packages (from pydantic>=2->ydata-profiling) (2.14.5)\r\n",
      "Requirement already satisfied: typing-extensions>=4.6.1 in /Users/teohkhenghong/mambaforge/envs/mlp/lib/python3.8/site-packages (from pydantic>=2->ydata-profiling) (4.8.0)\r\n",
      "Requirement already satisfied: charset-normalizer<4,>=2 in /Users/teohkhenghong/mambaforge/envs/mlp/lib/python3.8/site-packages (from requests<3,>=2.24.0->ydata-profiling) (3.1.0)\r\n",
      "Requirement already satisfied: idna<4,>=2.5 in /Users/teohkhenghong/mambaforge/envs/mlp/lib/python3.8/site-packages (from requests<3,>=2.24.0->ydata-profiling) (3.4)\r\n",
      "Requirement already satisfied: urllib3<3,>=1.21.1 in /Users/teohkhenghong/mambaforge/envs/mlp/lib/python3.8/site-packages (from requests<3,>=2.24.0->ydata-profiling) (1.26.16)\r\n",
      "Requirement already satisfied: certifi>=2017.4.17 in /Users/teohkhenghong/mambaforge/envs/mlp/lib/python3.8/site-packages (from requests<3,>=2.24.0->ydata-profiling) (2023.5.7)\r\n",
      "Requirement already satisfied: patsy>=0.5.2 in /Users/teohkhenghong/mambaforge/envs/mlp/lib/python3.8/site-packages (from statsmodels<1,>=0.13.2->ydata-profiling) (0.5.3)\r\n",
      "Requirement already satisfied: zipp>=0.5 in /Users/teohkhenghong/mambaforge/envs/mlp/lib/python3.8/site-packages (from importlib-metadata->numba<0.59.0,>=0.56.0->ydata-profiling) (3.15.0)\r\n",
      "Requirement already satisfied: six in /Users/teohkhenghong/mambaforge/envs/mlp/lib/python3.8/site-packages (from patsy>=0.5.2->statsmodels<1,>=0.13.2->ydata-profiling) (1.16.0)\r\n",
      "Installing collected packages: ydata-profiling\r\n",
      "  Attempting uninstall: ydata-profiling\r\n",
      "    Found existing installation: ydata-profiling 4.6.2\r\n",
      "    Uninstalling ydata-profiling-4.6.2:\r\n",
      "      Successfully uninstalled ydata-profiling-4.6.2\r\n",
      "Successfully installed ydata-profiling-4.6.3\r\n",
      "Note: you may need to restart the kernel to use updated packages.\n"
     ]
    }
   ],
   "source": [
    "pip install --upgrade ydata-profiling"
   ],
   "metadata": {
    "collapsed": false,
    "ExecuteTime": {
     "end_time": "2023-12-17T09:18:21.799210Z",
     "start_time": "2023-12-17T09:18:19.247411Z"
    }
   },
   "id": "42eae93d610ad016"
  },
  {
   "cell_type": "code",
   "execution_count": 4,
   "outputs": [
    {
     "name": "stdout",
     "output_type": "stream",
     "text": [
      "Requirement already satisfied: sweetviz in /Users/teohkhenghong/mambaforge/envs/mlp/lib/python3.8/site-packages (2.3.1)\r\n",
      "Requirement already satisfied: pandas!=1.0.0,!=1.0.1,!=1.0.2,>=0.25.3 in /Users/teohkhenghong/mambaforge/envs/mlp/lib/python3.8/site-packages (from sweetviz) (1.5.3)\r\n",
      "Requirement already satisfied: numpy>=1.16.0 in /Users/teohkhenghong/mambaforge/envs/mlp/lib/python3.8/site-packages (from sweetviz) (1.23.2)\r\n",
      "Requirement already satisfied: matplotlib>=3.1.3 in /Users/teohkhenghong/mambaforge/envs/mlp/lib/python3.8/site-packages (from sweetviz) (3.7.1)\r\n",
      "Requirement already satisfied: tqdm>=4.43.0 in /Users/teohkhenghong/mambaforge/envs/mlp/lib/python3.8/site-packages (from sweetviz) (4.65.0)\r\n",
      "Requirement already satisfied: scipy>=1.3.2 in /Users/teohkhenghong/mambaforge/envs/mlp/lib/python3.8/site-packages (from sweetviz) (1.10.1)\r\n",
      "Requirement already satisfied: jinja2>=2.11.1 in /Users/teohkhenghong/mambaforge/envs/mlp/lib/python3.8/site-packages (from sweetviz) (3.0.3)\r\n",
      "Requirement already satisfied: importlib-resources>=1.2.0 in /Users/teohkhenghong/mambaforge/envs/mlp/lib/python3.8/site-packages (from sweetviz) (5.12.0)\r\n",
      "Requirement already satisfied: zipp>=3.1.0 in /Users/teohkhenghong/mambaforge/envs/mlp/lib/python3.8/site-packages (from importlib-resources>=1.2.0->sweetviz) (3.15.0)\r\n",
      "Requirement already satisfied: MarkupSafe>=2.0 in /Users/teohkhenghong/mambaforge/envs/mlp/lib/python3.8/site-packages (from jinja2>=2.11.1->sweetviz) (2.1.3)\r\n",
      "Requirement already satisfied: contourpy>=1.0.1 in /Users/teohkhenghong/mambaforge/envs/mlp/lib/python3.8/site-packages (from matplotlib>=3.1.3->sweetviz) (1.1.0)\r\n",
      "Requirement already satisfied: cycler>=0.10 in /Users/teohkhenghong/mambaforge/envs/mlp/lib/python3.8/site-packages (from matplotlib>=3.1.3->sweetviz) (0.11.0)\r\n",
      "Requirement already satisfied: fonttools>=4.22.0 in /Users/teohkhenghong/mambaforge/envs/mlp/lib/python3.8/site-packages (from matplotlib>=3.1.3->sweetviz) (4.40.0)\r\n",
      "Requirement already satisfied: kiwisolver>=1.0.1 in /Users/teohkhenghong/mambaforge/envs/mlp/lib/python3.8/site-packages (from matplotlib>=3.1.3->sweetviz) (1.4.4)\r\n",
      "Requirement already satisfied: packaging>=20.0 in /Users/teohkhenghong/mambaforge/envs/mlp/lib/python3.8/site-packages (from matplotlib>=3.1.3->sweetviz) (23.1)\r\n",
      "Requirement already satisfied: pillow>=6.2.0 in /Users/teohkhenghong/mambaforge/envs/mlp/lib/python3.8/site-packages (from matplotlib>=3.1.3->sweetviz) (9.5.0)\r\n",
      "Requirement already satisfied: pyparsing>=2.3.1 in /Users/teohkhenghong/mambaforge/envs/mlp/lib/python3.8/site-packages (from matplotlib>=3.1.3->sweetviz) (3.0.9)\r\n",
      "Requirement already satisfied: python-dateutil>=2.7 in /Users/teohkhenghong/mambaforge/envs/mlp/lib/python3.8/site-packages (from matplotlib>=3.1.3->sweetviz) (2.8.2)\r\n",
      "Requirement already satisfied: pytz>=2020.1 in /Users/teohkhenghong/mambaforge/envs/mlp/lib/python3.8/site-packages (from pandas!=1.0.0,!=1.0.1,!=1.0.2,>=0.25.3->sweetviz) (2023.3)\r\n",
      "Requirement already satisfied: six>=1.5 in /Users/teohkhenghong/mambaforge/envs/mlp/lib/python3.8/site-packages (from python-dateutil>=2.7->matplotlib>=3.1.3->sweetviz) (1.16.0)\r\n",
      "Note: you may need to restart the kernel to use updated packages.\n"
     ]
    }
   ],
   "source": [
    "pip install --upgrade sweetviz"
   ],
   "metadata": {
    "collapsed": false,
    "ExecuteTime": {
     "end_time": "2023-12-17T09:18:23.842550Z",
     "start_time": "2023-12-17T09:18:21.798292Z"
    }
   },
   "id": "68acd6fcfdde99c3"
  },
  {
   "cell_type": "code",
   "execution_count": 5,
   "outputs": [],
   "source": [
    "import pandas as pd\n",
    "import numpy as np\n",
    "\n",
    "import warnings\n",
    "warnings.filterwarnings('ignore')\n",
    "\n",
    "# Class balancing\n",
    "from imblearn.over_sampling import SMOTE\n",
    "\n",
    "# Model Selection and Evaluation\n",
    "from sklearn.model_selection import train_test_split\n",
    "from sklearn.feature_extraction.text import TfidfVectorizer, CountVectorizer\n",
    "from sklearn.preprocessing import LabelEncoder\n",
    "from sklearn.model_selection import GridSearchCV\n",
    "from sklearn.metrics import (\n",
    "recall_score, accuracy_score, confusion_matrix,\n",
    "classification_report, f1_score, precision_score,\n",
    "precision_recall_fscore_support\n",
    ")\n",
    "from sklearn.model_selection import cross_val_score\n",
    "\n",
    "from sklearn.linear_model import LogisticRegression\n",
    "from sklearn.ensemble import RandomForestClassifier\n",
    "\n",
    "# Data Visualization\n",
    "import matplotlib.pyplot as plt\n",
    "import seaborn as sns\n",
    "import plotly.graph_objects as go\n",
    "\n",
    "\n",
    "from pandas_profiling import ProfileReport\n",
    "import sweetviz as sv\n",
    "\n",
    "\n",
    "# Word Cloud\n",
    "from wordcloud import STOPWORDS, WordCloud\n",
    "\n",
    "# Configuration\n",
    "# Remove the limit for the number of displayed columns\n",
    "pd.set_option(\"display.max_columns\", None)\n",
    "\n",
    "# Set the limit for the number of displayed rows\n",
    "pd.set_option(\"display.max_rows\", 200)"
   ],
   "metadata": {
    "collapsed": false,
    "ExecuteTime": {
     "end_time": "2023-12-17T09:18:26.077051Z",
     "start_time": "2023-12-17T09:18:23.843780Z"
    }
   },
   "id": "45acea4b3c252de0"
  },
  {
   "cell_type": "code",
   "execution_count": 6,
   "outputs": [],
   "source": [
    "# List of time columns to be converted\n",
    "time_columns = ['SCHEDULED_DEPARTURE', 'DEPARTURE_TIME', 'SCHEDULED_TIME', 'WHEELS_OFF', 'WHEELS_ON', 'SCHEDULED_ARRIVAL', 'ARRIVAL_TIME']"
   ],
   "metadata": {
    "collapsed": false,
    "ExecuteTime": {
     "end_time": "2023-12-17T09:18:26.081543Z",
     "start_time": "2023-12-17T09:18:26.077517Z"
    }
   },
   "id": "c1e937b7b90b1231"
  },
  {
   "cell_type": "code",
   "execution_count": 7,
   "outputs": [],
   "source": [
    "airlines_df = pd.read_csv('airlines.csv')\n",
    "airports_df = pd.read_csv('airports.csv')\n",
    "flights_df = pd.read_csv('flights.csv')"
   ],
   "metadata": {
    "collapsed": false,
    "ExecuteTime": {
     "end_time": "2023-12-17T09:18:34.257839Z",
     "start_time": "2023-12-17T09:18:26.080264Z"
    }
   },
   "id": "d4d9a7b992e0dcf0"
  },
  {
   "cell_type": "code",
   "execution_count": 8,
   "outputs": [
    {
     "name": "stdout",
     "output_type": "stream",
     "text": [
      "(14, 2)\n"
     ]
    },
    {
     "data": {
      "text/plain": "  IATA_CODE                 AIRLINE\n0        UA   United Air Lines Inc.\n1        AA  American Airlines Inc.\n2        US         US Airways Inc.\n3        F9  Frontier Airlines Inc.\n4        B6         JetBlue Airways",
      "text/html": "<div>\n<style scoped>\n    .dataframe tbody tr th:only-of-type {\n        vertical-align: middle;\n    }\n\n    .dataframe tbody tr th {\n        vertical-align: top;\n    }\n\n    .dataframe thead th {\n        text-align: right;\n    }\n</style>\n<table border=\"1\" class=\"dataframe\">\n  <thead>\n    <tr style=\"text-align: right;\">\n      <th></th>\n      <th>IATA_CODE</th>\n      <th>AIRLINE</th>\n    </tr>\n  </thead>\n  <tbody>\n    <tr>\n      <th>0</th>\n      <td>UA</td>\n      <td>United Air Lines Inc.</td>\n    </tr>\n    <tr>\n      <th>1</th>\n      <td>AA</td>\n      <td>American Airlines Inc.</td>\n    </tr>\n    <tr>\n      <th>2</th>\n      <td>US</td>\n      <td>US Airways Inc.</td>\n    </tr>\n    <tr>\n      <th>3</th>\n      <td>F9</td>\n      <td>Frontier Airlines Inc.</td>\n    </tr>\n    <tr>\n      <th>4</th>\n      <td>B6</td>\n      <td>JetBlue Airways</td>\n    </tr>\n  </tbody>\n</table>\n</div>"
     },
     "execution_count": 8,
     "metadata": {},
     "output_type": "execute_result"
    }
   ],
   "source": [
    "print(airlines_df.shape)\n",
    "airlines_df.head()"
   ],
   "metadata": {
    "collapsed": false,
    "ExecuteTime": {
     "end_time": "2023-12-17T09:18:34.280581Z",
     "start_time": "2023-12-17T09:18:34.259154Z"
    }
   },
   "id": "8eaae4bed991c945"
  },
  {
   "cell_type": "code",
   "execution_count": 9,
   "outputs": [
    {
     "name": "stdout",
     "output_type": "stream",
     "text": [
      "(322, 7)\n"
     ]
    },
    {
     "data": {
      "text/plain": "  IATA_CODE                              AIRPORT         CITY STATE COUNTRY  \\\n0       ABE  Lehigh Valley International Airport    Allentown    PA     USA   \n1       ABI             Abilene Regional Airport      Abilene    TX     USA   \n2       ABQ    Albuquerque International Sunport  Albuquerque    NM     USA   \n3       ABR            Aberdeen Regional Airport     Aberdeen    SD     USA   \n4       ABY   Southwest Georgia Regional Airport       Albany    GA     USA   \n\n   LATITUDE  LONGITUDE  \n0  40.65236  -75.44040  \n1  32.41132  -99.68190  \n2  35.04022 -106.60919  \n3  45.44906  -98.42183  \n4  31.53552  -84.19447  ",
      "text/html": "<div>\n<style scoped>\n    .dataframe tbody tr th:only-of-type {\n        vertical-align: middle;\n    }\n\n    .dataframe tbody tr th {\n        vertical-align: top;\n    }\n\n    .dataframe thead th {\n        text-align: right;\n    }\n</style>\n<table border=\"1\" class=\"dataframe\">\n  <thead>\n    <tr style=\"text-align: right;\">\n      <th></th>\n      <th>IATA_CODE</th>\n      <th>AIRPORT</th>\n      <th>CITY</th>\n      <th>STATE</th>\n      <th>COUNTRY</th>\n      <th>LATITUDE</th>\n      <th>LONGITUDE</th>\n    </tr>\n  </thead>\n  <tbody>\n    <tr>\n      <th>0</th>\n      <td>ABE</td>\n      <td>Lehigh Valley International Airport</td>\n      <td>Allentown</td>\n      <td>PA</td>\n      <td>USA</td>\n      <td>40.65236</td>\n      <td>-75.44040</td>\n    </tr>\n    <tr>\n      <th>1</th>\n      <td>ABI</td>\n      <td>Abilene Regional Airport</td>\n      <td>Abilene</td>\n      <td>TX</td>\n      <td>USA</td>\n      <td>32.41132</td>\n      <td>-99.68190</td>\n    </tr>\n    <tr>\n      <th>2</th>\n      <td>ABQ</td>\n      <td>Albuquerque International Sunport</td>\n      <td>Albuquerque</td>\n      <td>NM</td>\n      <td>USA</td>\n      <td>35.04022</td>\n      <td>-106.60919</td>\n    </tr>\n    <tr>\n      <th>3</th>\n      <td>ABR</td>\n      <td>Aberdeen Regional Airport</td>\n      <td>Aberdeen</td>\n      <td>SD</td>\n      <td>USA</td>\n      <td>45.44906</td>\n      <td>-98.42183</td>\n    </tr>\n    <tr>\n      <th>4</th>\n      <td>ABY</td>\n      <td>Southwest Georgia Regional Airport</td>\n      <td>Albany</td>\n      <td>GA</td>\n      <td>USA</td>\n      <td>31.53552</td>\n      <td>-84.19447</td>\n    </tr>\n  </tbody>\n</table>\n</div>"
     },
     "execution_count": 9,
     "metadata": {},
     "output_type": "execute_result"
    }
   ],
   "source": [
    "print(airports_df.shape)\n",
    "airports_df.head()"
   ],
   "metadata": {
    "collapsed": false,
    "ExecuteTime": {
     "end_time": "2023-12-17T09:18:34.283026Z",
     "start_time": "2023-12-17T09:18:34.276084Z"
    }
   },
   "id": "5a763f5fc43e404b"
  },
  {
   "cell_type": "code",
   "execution_count": 10,
   "outputs": [
    {
     "name": "stdout",
     "output_type": "stream",
     "text": [
      "(5819079, 31)\n"
     ]
    },
    {
     "data": {
      "text/plain": "   YEAR  MONTH  DAY  DAY_OF_WEEK AIRLINE  FLIGHT_NUMBER TAIL_NUMBER  \\\n0  2015      1    1            4      AS             98      N407AS   \n1  2015      1    1            4      AA           2336      N3KUAA   \n2  2015      1    1            4      US            840      N171US   \n3  2015      1    1            4      AA            258      N3HYAA   \n4  2015      1    1            4      AS            135      N527AS   \n\n  ORIGIN_AIRPORT DESTINATION_AIRPORT  SCHEDULED_DEPARTURE  DEPARTURE_TIME  \\\n0            ANC                 SEA                    5          2354.0   \n1            LAX                 PBI                   10             2.0   \n2            SFO                 CLT                   20            18.0   \n3            LAX                 MIA                   20            15.0   \n4            SEA                 ANC                   25            24.0   \n\n   DEPARTURE_DELAY  TAXI_OUT  WHEELS_OFF  SCHEDULED_TIME  ELAPSED_TIME  \\\n0            -11.0      21.0        15.0           205.0         194.0   \n1             -8.0      12.0        14.0           280.0         279.0   \n2             -2.0      16.0        34.0           286.0         293.0   \n3             -5.0      15.0        30.0           285.0         281.0   \n4             -1.0      11.0        35.0           235.0         215.0   \n\n   AIR_TIME  DISTANCE  WHEELS_ON  TAXI_IN  SCHEDULED_ARRIVAL  ARRIVAL_TIME  \\\n0     169.0      1448      404.0      4.0                430         408.0   \n1     263.0      2330      737.0      4.0                750         741.0   \n2     266.0      2296      800.0     11.0                806         811.0   \n3     258.0      2342      748.0      8.0                805         756.0   \n4     199.0      1448      254.0      5.0                320         259.0   \n\n   ARRIVAL_DELAY  DIVERTED  CANCELLED CANCELLATION_REASON  AIR_SYSTEM_DELAY  \\\n0          -22.0         0          0                 NaN               NaN   \n1           -9.0         0          0                 NaN               NaN   \n2            5.0         0          0                 NaN               NaN   \n3           -9.0         0          0                 NaN               NaN   \n4          -21.0         0          0                 NaN               NaN   \n\n   SECURITY_DELAY  AIRLINE_DELAY  LATE_AIRCRAFT_DELAY  WEATHER_DELAY  \n0             NaN            NaN                  NaN            NaN  \n1             NaN            NaN                  NaN            NaN  \n2             NaN            NaN                  NaN            NaN  \n3             NaN            NaN                  NaN            NaN  \n4             NaN            NaN                  NaN            NaN  ",
      "text/html": "<div>\n<style scoped>\n    .dataframe tbody tr th:only-of-type {\n        vertical-align: middle;\n    }\n\n    .dataframe tbody tr th {\n        vertical-align: top;\n    }\n\n    .dataframe thead th {\n        text-align: right;\n    }\n</style>\n<table border=\"1\" class=\"dataframe\">\n  <thead>\n    <tr style=\"text-align: right;\">\n      <th></th>\n      <th>YEAR</th>\n      <th>MONTH</th>\n      <th>DAY</th>\n      <th>DAY_OF_WEEK</th>\n      <th>AIRLINE</th>\n      <th>FLIGHT_NUMBER</th>\n      <th>TAIL_NUMBER</th>\n      <th>ORIGIN_AIRPORT</th>\n      <th>DESTINATION_AIRPORT</th>\n      <th>SCHEDULED_DEPARTURE</th>\n      <th>DEPARTURE_TIME</th>\n      <th>DEPARTURE_DELAY</th>\n      <th>TAXI_OUT</th>\n      <th>WHEELS_OFF</th>\n      <th>SCHEDULED_TIME</th>\n      <th>ELAPSED_TIME</th>\n      <th>AIR_TIME</th>\n      <th>DISTANCE</th>\n      <th>WHEELS_ON</th>\n      <th>TAXI_IN</th>\n      <th>SCHEDULED_ARRIVAL</th>\n      <th>ARRIVAL_TIME</th>\n      <th>ARRIVAL_DELAY</th>\n      <th>DIVERTED</th>\n      <th>CANCELLED</th>\n      <th>CANCELLATION_REASON</th>\n      <th>AIR_SYSTEM_DELAY</th>\n      <th>SECURITY_DELAY</th>\n      <th>AIRLINE_DELAY</th>\n      <th>LATE_AIRCRAFT_DELAY</th>\n      <th>WEATHER_DELAY</th>\n    </tr>\n  </thead>\n  <tbody>\n    <tr>\n      <th>0</th>\n      <td>2015</td>\n      <td>1</td>\n      <td>1</td>\n      <td>4</td>\n      <td>AS</td>\n      <td>98</td>\n      <td>N407AS</td>\n      <td>ANC</td>\n      <td>SEA</td>\n      <td>5</td>\n      <td>2354.0</td>\n      <td>-11.0</td>\n      <td>21.0</td>\n      <td>15.0</td>\n      <td>205.0</td>\n      <td>194.0</td>\n      <td>169.0</td>\n      <td>1448</td>\n      <td>404.0</td>\n      <td>4.0</td>\n      <td>430</td>\n      <td>408.0</td>\n      <td>-22.0</td>\n      <td>0</td>\n      <td>0</td>\n      <td>NaN</td>\n      <td>NaN</td>\n      <td>NaN</td>\n      <td>NaN</td>\n      <td>NaN</td>\n      <td>NaN</td>\n    </tr>\n    <tr>\n      <th>1</th>\n      <td>2015</td>\n      <td>1</td>\n      <td>1</td>\n      <td>4</td>\n      <td>AA</td>\n      <td>2336</td>\n      <td>N3KUAA</td>\n      <td>LAX</td>\n      <td>PBI</td>\n      <td>10</td>\n      <td>2.0</td>\n      <td>-8.0</td>\n      <td>12.0</td>\n      <td>14.0</td>\n      <td>280.0</td>\n      <td>279.0</td>\n      <td>263.0</td>\n      <td>2330</td>\n      <td>737.0</td>\n      <td>4.0</td>\n      <td>750</td>\n      <td>741.0</td>\n      <td>-9.0</td>\n      <td>0</td>\n      <td>0</td>\n      <td>NaN</td>\n      <td>NaN</td>\n      <td>NaN</td>\n      <td>NaN</td>\n      <td>NaN</td>\n      <td>NaN</td>\n    </tr>\n    <tr>\n      <th>2</th>\n      <td>2015</td>\n      <td>1</td>\n      <td>1</td>\n      <td>4</td>\n      <td>US</td>\n      <td>840</td>\n      <td>N171US</td>\n      <td>SFO</td>\n      <td>CLT</td>\n      <td>20</td>\n      <td>18.0</td>\n      <td>-2.0</td>\n      <td>16.0</td>\n      <td>34.0</td>\n      <td>286.0</td>\n      <td>293.0</td>\n      <td>266.0</td>\n      <td>2296</td>\n      <td>800.0</td>\n      <td>11.0</td>\n      <td>806</td>\n      <td>811.0</td>\n      <td>5.0</td>\n      <td>0</td>\n      <td>0</td>\n      <td>NaN</td>\n      <td>NaN</td>\n      <td>NaN</td>\n      <td>NaN</td>\n      <td>NaN</td>\n      <td>NaN</td>\n    </tr>\n    <tr>\n      <th>3</th>\n      <td>2015</td>\n      <td>1</td>\n      <td>1</td>\n      <td>4</td>\n      <td>AA</td>\n      <td>258</td>\n      <td>N3HYAA</td>\n      <td>LAX</td>\n      <td>MIA</td>\n      <td>20</td>\n      <td>15.0</td>\n      <td>-5.0</td>\n      <td>15.0</td>\n      <td>30.0</td>\n      <td>285.0</td>\n      <td>281.0</td>\n      <td>258.0</td>\n      <td>2342</td>\n      <td>748.0</td>\n      <td>8.0</td>\n      <td>805</td>\n      <td>756.0</td>\n      <td>-9.0</td>\n      <td>0</td>\n      <td>0</td>\n      <td>NaN</td>\n      <td>NaN</td>\n      <td>NaN</td>\n      <td>NaN</td>\n      <td>NaN</td>\n      <td>NaN</td>\n    </tr>\n    <tr>\n      <th>4</th>\n      <td>2015</td>\n      <td>1</td>\n      <td>1</td>\n      <td>4</td>\n      <td>AS</td>\n      <td>135</td>\n      <td>N527AS</td>\n      <td>SEA</td>\n      <td>ANC</td>\n      <td>25</td>\n      <td>24.0</td>\n      <td>-1.0</td>\n      <td>11.0</td>\n      <td>35.0</td>\n      <td>235.0</td>\n      <td>215.0</td>\n      <td>199.0</td>\n      <td>1448</td>\n      <td>254.0</td>\n      <td>5.0</td>\n      <td>320</td>\n      <td>259.0</td>\n      <td>-21.0</td>\n      <td>0</td>\n      <td>0</td>\n      <td>NaN</td>\n      <td>NaN</td>\n      <td>NaN</td>\n      <td>NaN</td>\n      <td>NaN</td>\n      <td>NaN</td>\n    </tr>\n  </tbody>\n</table>\n</div>"
     },
     "execution_count": 10,
     "metadata": {},
     "output_type": "execute_result"
    }
   ],
   "source": [
    "print(flights_df.shape)\n",
    "flights_df.head()"
   ],
   "metadata": {
    "collapsed": false,
    "ExecuteTime": {
     "end_time": "2023-12-17T09:18:34.334363Z",
     "start_time": "2023-12-17T09:18:34.282229Z"
    }
   },
   "id": "27a8ac2c604fe137"
  },
  {
   "cell_type": "code",
   "execution_count": 11,
   "outputs": [
    {
     "name": "stdout",
     "output_type": "stream",
     "text": [
      "<class 'pandas.core.frame.DataFrame'>\n",
      "RangeIndex: 14 entries, 0 to 13\n",
      "Data columns (total 2 columns):\n",
      " #   Column     Non-Null Count  Dtype \n",
      "---  ------     --------------  ----- \n",
      " 0   IATA_CODE  14 non-null     object\n",
      " 1   AIRLINE    14 non-null     object\n",
      "dtypes: object(2)\n",
      "memory usage: 352.0+ bytes\n"
     ]
    }
   ],
   "source": [
    "airlines_df.info()"
   ],
   "metadata": {
    "collapsed": false,
    "ExecuteTime": {
     "end_time": "2023-12-17T09:18:34.335695Z",
     "start_time": "2023-12-17T09:18:34.306028Z"
    }
   },
   "id": "23afee18da2875e8"
  },
  {
   "cell_type": "code",
   "execution_count": 12,
   "outputs": [
    {
     "name": "stdout",
     "output_type": "stream",
     "text": [
      "<class 'pandas.core.frame.DataFrame'>\n",
      "RangeIndex: 322 entries, 0 to 321\n",
      "Data columns (total 7 columns):\n",
      " #   Column     Non-Null Count  Dtype  \n",
      "---  ------     --------------  -----  \n",
      " 0   IATA_CODE  322 non-null    object \n",
      " 1   AIRPORT    322 non-null    object \n",
      " 2   CITY       322 non-null    object \n",
      " 3   STATE      322 non-null    object \n",
      " 4   COUNTRY    322 non-null    object \n",
      " 5   LATITUDE   319 non-null    float64\n",
      " 6   LONGITUDE  319 non-null    float64\n",
      "dtypes: float64(2), object(5)\n",
      "memory usage: 17.7+ KB\n"
     ]
    }
   ],
   "source": [
    "airports_df.info()"
   ],
   "metadata": {
    "collapsed": false,
    "ExecuteTime": {
     "end_time": "2023-12-17T09:18:34.336651Z",
     "start_time": "2023-12-17T09:18:34.312555Z"
    }
   },
   "id": "35c7e758a592e396"
  },
  {
   "cell_type": "code",
   "execution_count": 13,
   "outputs": [
    {
     "name": "stdout",
     "output_type": "stream",
     "text": [
      "<class 'pandas.core.frame.DataFrame'>\n",
      "RangeIndex: 5819079 entries, 0 to 5819078\n",
      "Data columns (total 31 columns):\n",
      " #   Column               Dtype  \n",
      "---  ------               -----  \n",
      " 0   YEAR                 int64  \n",
      " 1   MONTH                int64  \n",
      " 2   DAY                  int64  \n",
      " 3   DAY_OF_WEEK          int64  \n",
      " 4   AIRLINE              object \n",
      " 5   FLIGHT_NUMBER        int64  \n",
      " 6   TAIL_NUMBER          object \n",
      " 7   ORIGIN_AIRPORT       object \n",
      " 8   DESTINATION_AIRPORT  object \n",
      " 9   SCHEDULED_DEPARTURE  int64  \n",
      " 10  DEPARTURE_TIME       float64\n",
      " 11  DEPARTURE_DELAY      float64\n",
      " 12  TAXI_OUT             float64\n",
      " 13  WHEELS_OFF           float64\n",
      " 14  SCHEDULED_TIME       float64\n",
      " 15  ELAPSED_TIME         float64\n",
      " 16  AIR_TIME             float64\n",
      " 17  DISTANCE             int64  \n",
      " 18  WHEELS_ON            float64\n",
      " 19  TAXI_IN              float64\n",
      " 20  SCHEDULED_ARRIVAL    int64  \n",
      " 21  ARRIVAL_TIME         float64\n",
      " 22  ARRIVAL_DELAY        float64\n",
      " 23  DIVERTED             int64  \n",
      " 24  CANCELLED            int64  \n",
      " 25  CANCELLATION_REASON  object \n",
      " 26  AIR_SYSTEM_DELAY     float64\n",
      " 27  SECURITY_DELAY       float64\n",
      " 28  AIRLINE_DELAY        float64\n",
      " 29  LATE_AIRCRAFT_DELAY  float64\n",
      " 30  WEATHER_DELAY        float64\n",
      "dtypes: float64(16), int64(10), object(5)\n",
      "memory usage: 1.3+ GB\n"
     ]
    }
   ],
   "source": [
    "flights_df.info()"
   ],
   "metadata": {
    "collapsed": false,
    "ExecuteTime": {
     "end_time": "2023-12-17T09:18:34.343131Z",
     "start_time": "2023-12-17T09:18:34.317486Z"
    }
   },
   "id": "20e64bfaa570e9af"
  },
  {
   "cell_type": "code",
   "execution_count": 14,
   "outputs": [],
   "source": [
    "def categorize_delay(x):\n",
    "    if x > 60:\n",
    "        return 3\n",
    "    elif x > 30:\n",
    "        return 2\n",
    "    elif x > 15:\n",
    "        return 1\n",
    "    else:\n",
    "        return 0\n",
    "\n",
    "flights_df['LATE_AIRCRAFT_DELAY_CAT'] = flights_df['LATE_AIRCRAFT_DELAY'].apply(lambda x: categorize_delay(x))"
   ],
   "metadata": {
    "collapsed": false,
    "ExecuteTime": {
     "end_time": "2023-12-17T09:18:35.723319Z",
     "start_time": "2023-12-17T09:18:34.321752Z"
    }
   },
   "id": "8a9f0b64504d8c3e"
  },
  {
   "cell_type": "code",
   "execution_count": 15,
   "outputs": [],
   "source": [
    "# Convert 'Date' to 'dd/mm/yyyy' format\n",
    "def transform_date_columns(df, year_col, month_col, day_col):\n",
    "    df['Date'] = pd.to_datetime(df[[year_col, month_col, day_col]].astype(str).agg('/'.join, axis=1), format='%Y/%m/%d').dt.strftime('%d/%m/%Y')"
   ],
   "metadata": {
    "collapsed": false,
    "ExecuteTime": {
     "end_time": "2023-12-17T09:18:35.727589Z",
     "start_time": "2023-12-17T09:18:35.724494Z"
    }
   },
   "id": "a525b6ab2c5b6dd1"
  },
  {
   "cell_type": "code",
   "execution_count": 16,
   "outputs": [],
   "source": [
    "# Convert time columns to the right format (HHmm)\n",
    "def transform_time_columns(df, columns):\n",
    "    for column in columns:\n",
    "        df[column] = df[column].apply(lambda x: format_time(x))\n",
    "\n",
    "def format_time(time_str):\n",
    "    try:\n",
    "        # Convert the time value to an integer (removing the decimal point and trailing zeros)\n",
    "        time_as_int = int(float(time_str))\n",
    "        # Ensure the time string has the correct format by zero-filling\n",
    "        time_str = str(time_as_int).zfill(4)\n",
    "        \n",
    "        # Extract hours and minutes using string slicing\n",
    "        hours = time_str[:2]\n",
    "        minutes = time_str[2:]\n",
    "        # Try to parse the time using the expected format\n",
    "        # time_obj = pd.to_datetime(time_str, format='%H%M').time()\n",
    "        # return time_obj.strftime('%I:%M %p')\n",
    "        ampm = 'AM'\n",
    "        if int(hours) > 12:\n",
    "            number = int(hours) - 12\n",
    "            if number < 10:\n",
    "                hours = f'0{str(number)}'\n",
    "            else:\n",
    "                hours = f'{str(number)}'\n",
    "            ampm = 'PM'\n",
    "\n",
    "        time_str = f'{hours}:{minutes} {ampm}'\n",
    "        return time_str\n",
    "    except ValueError:\n",
    "        # Handle unexpected values, for example, replace with NaN\n",
    "        return pd.NaT"
   ],
   "metadata": {
    "collapsed": false,
    "ExecuteTime": {
     "end_time": "2023-12-17T09:18:35.745167Z",
     "start_time": "2023-12-17T09:18:35.728567Z"
    }
   },
   "id": "123754a62f82959d"
  },
  {
   "cell_type": "code",
   "execution_count": 17,
   "outputs": [],
   "source": [
    "transform_date_columns(flights_df, 'YEAR', 'MONTH', 'DAY')"
   ],
   "metadata": {
    "collapsed": false,
    "ExecuteTime": {
     "end_time": "2023-12-17T09:19:21.219727Z",
     "start_time": "2023-12-17T09:18:35.734834Z"
    }
   },
   "id": "8f9316fb3766ee54"
  },
  {
   "cell_type": "code",
   "execution_count": 18,
   "outputs": [],
   "source": [
    "transform_time_columns(flights_df, time_columns)"
   ],
   "metadata": {
    "collapsed": false,
    "ExecuteTime": {
     "end_time": "2023-12-17T09:19:46.704518Z",
     "start_time": "2023-12-17T09:19:21.219105Z"
    }
   },
   "id": "3d5518226ba4287f"
  },
  {
   "cell_type": "code",
   "execution_count": 19,
   "outputs": [],
   "source": [
    "# Assuming 'transformed_flights.csv' is the new file\n",
    "flights_df.to_csv('transformed_flights.csv', index=False)"
   ],
   "metadata": {
    "collapsed": false,
    "ExecuteTime": {
     "end_time": "2023-12-17T09:20:21.694252Z",
     "start_time": "2023-12-17T09:19:46.704943Z"
    }
   },
   "id": "2cea2be64e3e3764"
  },
  {
   "cell_type": "code",
   "execution_count": 20,
   "outputs": [
    {
     "data": {
      "text/plain": "   YEAR  MONTH  DAY  DAY_OF_WEEK AIRLINE  FLIGHT_NUMBER TAIL_NUMBER  \\\n0  2015      1    1            4      AS             98      N407AS   \n1  2015      1    1            4      AA           2336      N3KUAA   \n2  2015      1    1            4      US            840      N171US   \n3  2015      1    1            4      AA            258      N3HYAA   \n4  2015      1    1            4      AS            135      N527AS   \n\n  ORIGIN_AIRPORT DESTINATION_AIRPORT SCHEDULED_DEPARTURE DEPARTURE_TIME  \\\n0            ANC                 SEA            00:05 AM       11:54 PM   \n1            LAX                 PBI            00:10 AM       00:02 AM   \n2            SFO                 CLT            00:20 AM       00:18 AM   \n3            LAX                 MIA            00:20 AM       00:15 AM   \n4            SEA                 ANC            00:25 AM       00:24 AM   \n\n   DEPARTURE_DELAY  TAXI_OUT WHEELS_OFF SCHEDULED_TIME  ELAPSED_TIME  \\\n0            -11.0      21.0   00:15 AM       02:05 AM         194.0   \n1             -8.0      12.0   00:14 AM       02:80 AM         279.0   \n2             -2.0      16.0   00:34 AM       02:86 AM         293.0   \n3             -5.0      15.0   00:30 AM       02:85 AM         281.0   \n4             -1.0      11.0   00:35 AM       02:35 AM         215.0   \n\n   AIR_TIME  DISTANCE WHEELS_ON  TAXI_IN SCHEDULED_ARRIVAL ARRIVAL_TIME  \\\n0     169.0      1448  04:04 AM      4.0          04:30 AM     04:08 AM   \n1     263.0      2330  07:37 AM      4.0          07:50 AM     07:41 AM   \n2     266.0      2296  08:00 AM     11.0          08:06 AM     08:11 AM   \n3     258.0      2342  07:48 AM      8.0          08:05 AM     07:56 AM   \n4     199.0      1448  02:54 AM      5.0          03:20 AM     02:59 AM   \n\n   ARRIVAL_DELAY  DIVERTED  CANCELLED CANCELLATION_REASON  AIR_SYSTEM_DELAY  \\\n0          -22.0         0          0                 NaN               NaN   \n1           -9.0         0          0                 NaN               NaN   \n2            5.0         0          0                 NaN               NaN   \n3           -9.0         0          0                 NaN               NaN   \n4          -21.0         0          0                 NaN               NaN   \n\n   SECURITY_DELAY  AIRLINE_DELAY  LATE_AIRCRAFT_DELAY  WEATHER_DELAY  \\\n0             NaN            NaN                  NaN            NaN   \n1             NaN            NaN                  NaN            NaN   \n2             NaN            NaN                  NaN            NaN   \n3             NaN            NaN                  NaN            NaN   \n4             NaN            NaN                  NaN            NaN   \n\n   LATE_AIRCRAFT_DELAY_CAT        Date  \n0                        0  01/01/2015  \n1                        0  01/01/2015  \n2                        0  01/01/2015  \n3                        0  01/01/2015  \n4                        0  01/01/2015  ",
      "text/html": "<div>\n<style scoped>\n    .dataframe tbody tr th:only-of-type {\n        vertical-align: middle;\n    }\n\n    .dataframe tbody tr th {\n        vertical-align: top;\n    }\n\n    .dataframe thead th {\n        text-align: right;\n    }\n</style>\n<table border=\"1\" class=\"dataframe\">\n  <thead>\n    <tr style=\"text-align: right;\">\n      <th></th>\n      <th>YEAR</th>\n      <th>MONTH</th>\n      <th>DAY</th>\n      <th>DAY_OF_WEEK</th>\n      <th>AIRLINE</th>\n      <th>FLIGHT_NUMBER</th>\n      <th>TAIL_NUMBER</th>\n      <th>ORIGIN_AIRPORT</th>\n      <th>DESTINATION_AIRPORT</th>\n      <th>SCHEDULED_DEPARTURE</th>\n      <th>DEPARTURE_TIME</th>\n      <th>DEPARTURE_DELAY</th>\n      <th>TAXI_OUT</th>\n      <th>WHEELS_OFF</th>\n      <th>SCHEDULED_TIME</th>\n      <th>ELAPSED_TIME</th>\n      <th>AIR_TIME</th>\n      <th>DISTANCE</th>\n      <th>WHEELS_ON</th>\n      <th>TAXI_IN</th>\n      <th>SCHEDULED_ARRIVAL</th>\n      <th>ARRIVAL_TIME</th>\n      <th>ARRIVAL_DELAY</th>\n      <th>DIVERTED</th>\n      <th>CANCELLED</th>\n      <th>CANCELLATION_REASON</th>\n      <th>AIR_SYSTEM_DELAY</th>\n      <th>SECURITY_DELAY</th>\n      <th>AIRLINE_DELAY</th>\n      <th>LATE_AIRCRAFT_DELAY</th>\n      <th>WEATHER_DELAY</th>\n      <th>LATE_AIRCRAFT_DELAY_CAT</th>\n      <th>Date</th>\n    </tr>\n  </thead>\n  <tbody>\n    <tr>\n      <th>0</th>\n      <td>2015</td>\n      <td>1</td>\n      <td>1</td>\n      <td>4</td>\n      <td>AS</td>\n      <td>98</td>\n      <td>N407AS</td>\n      <td>ANC</td>\n      <td>SEA</td>\n      <td>00:05 AM</td>\n      <td>11:54 PM</td>\n      <td>-11.0</td>\n      <td>21.0</td>\n      <td>00:15 AM</td>\n      <td>02:05 AM</td>\n      <td>194.0</td>\n      <td>169.0</td>\n      <td>1448</td>\n      <td>04:04 AM</td>\n      <td>4.0</td>\n      <td>04:30 AM</td>\n      <td>04:08 AM</td>\n      <td>-22.0</td>\n      <td>0</td>\n      <td>0</td>\n      <td>NaN</td>\n      <td>NaN</td>\n      <td>NaN</td>\n      <td>NaN</td>\n      <td>NaN</td>\n      <td>NaN</td>\n      <td>0</td>\n      <td>01/01/2015</td>\n    </tr>\n    <tr>\n      <th>1</th>\n      <td>2015</td>\n      <td>1</td>\n      <td>1</td>\n      <td>4</td>\n      <td>AA</td>\n      <td>2336</td>\n      <td>N3KUAA</td>\n      <td>LAX</td>\n      <td>PBI</td>\n      <td>00:10 AM</td>\n      <td>00:02 AM</td>\n      <td>-8.0</td>\n      <td>12.0</td>\n      <td>00:14 AM</td>\n      <td>02:80 AM</td>\n      <td>279.0</td>\n      <td>263.0</td>\n      <td>2330</td>\n      <td>07:37 AM</td>\n      <td>4.0</td>\n      <td>07:50 AM</td>\n      <td>07:41 AM</td>\n      <td>-9.0</td>\n      <td>0</td>\n      <td>0</td>\n      <td>NaN</td>\n      <td>NaN</td>\n      <td>NaN</td>\n      <td>NaN</td>\n      <td>NaN</td>\n      <td>NaN</td>\n      <td>0</td>\n      <td>01/01/2015</td>\n    </tr>\n    <tr>\n      <th>2</th>\n      <td>2015</td>\n      <td>1</td>\n      <td>1</td>\n      <td>4</td>\n      <td>US</td>\n      <td>840</td>\n      <td>N171US</td>\n      <td>SFO</td>\n      <td>CLT</td>\n      <td>00:20 AM</td>\n      <td>00:18 AM</td>\n      <td>-2.0</td>\n      <td>16.0</td>\n      <td>00:34 AM</td>\n      <td>02:86 AM</td>\n      <td>293.0</td>\n      <td>266.0</td>\n      <td>2296</td>\n      <td>08:00 AM</td>\n      <td>11.0</td>\n      <td>08:06 AM</td>\n      <td>08:11 AM</td>\n      <td>5.0</td>\n      <td>0</td>\n      <td>0</td>\n      <td>NaN</td>\n      <td>NaN</td>\n      <td>NaN</td>\n      <td>NaN</td>\n      <td>NaN</td>\n      <td>NaN</td>\n      <td>0</td>\n      <td>01/01/2015</td>\n    </tr>\n    <tr>\n      <th>3</th>\n      <td>2015</td>\n      <td>1</td>\n      <td>1</td>\n      <td>4</td>\n      <td>AA</td>\n      <td>258</td>\n      <td>N3HYAA</td>\n      <td>LAX</td>\n      <td>MIA</td>\n      <td>00:20 AM</td>\n      <td>00:15 AM</td>\n      <td>-5.0</td>\n      <td>15.0</td>\n      <td>00:30 AM</td>\n      <td>02:85 AM</td>\n      <td>281.0</td>\n      <td>258.0</td>\n      <td>2342</td>\n      <td>07:48 AM</td>\n      <td>8.0</td>\n      <td>08:05 AM</td>\n      <td>07:56 AM</td>\n      <td>-9.0</td>\n      <td>0</td>\n      <td>0</td>\n      <td>NaN</td>\n      <td>NaN</td>\n      <td>NaN</td>\n      <td>NaN</td>\n      <td>NaN</td>\n      <td>NaN</td>\n      <td>0</td>\n      <td>01/01/2015</td>\n    </tr>\n    <tr>\n      <th>4</th>\n      <td>2015</td>\n      <td>1</td>\n      <td>1</td>\n      <td>4</td>\n      <td>AS</td>\n      <td>135</td>\n      <td>N527AS</td>\n      <td>SEA</td>\n      <td>ANC</td>\n      <td>00:25 AM</td>\n      <td>00:24 AM</td>\n      <td>-1.0</td>\n      <td>11.0</td>\n      <td>00:35 AM</td>\n      <td>02:35 AM</td>\n      <td>215.0</td>\n      <td>199.0</td>\n      <td>1448</td>\n      <td>02:54 AM</td>\n      <td>5.0</td>\n      <td>03:20 AM</td>\n      <td>02:59 AM</td>\n      <td>-21.0</td>\n      <td>0</td>\n      <td>0</td>\n      <td>NaN</td>\n      <td>NaN</td>\n      <td>NaN</td>\n      <td>NaN</td>\n      <td>NaN</td>\n      <td>NaN</td>\n      <td>0</td>\n      <td>01/01/2015</td>\n    </tr>\n  </tbody>\n</table>\n</div>"
     },
     "execution_count": 20,
     "metadata": {},
     "output_type": "execute_result"
    }
   ],
   "source": [
    "# Display the first few rows of the transformed DataFrame\n",
    "flights_df.head()"
   ],
   "metadata": {
    "collapsed": false,
    "ExecuteTime": {
     "end_time": "2023-12-17T09:20:21.713715Z",
     "start_time": "2023-12-17T09:20:21.693979Z"
    }
   },
   "id": "a22c8ed18f494885"
  },
  {
   "cell_type": "code",
   "execution_count": 21,
   "outputs": [],
   "source": [
    "flights_df_profile = ProfileReport(flights_df, title=\"Profiling Report\")"
   ],
   "metadata": {
    "collapsed": false,
    "ExecuteTime": {
     "end_time": "2023-12-17T09:20:21.799248Z",
     "start_time": "2023-12-17T09:20:21.720145Z"
    }
   },
   "id": "9cf3bd2bdd9b12aa"
  },
  {
   "cell_type": "code",
   "execution_count": 22,
   "outputs": [
    {
     "data": {
      "text/plain": "Summarize dataset:   0%|          | 0/5 [00:00<?, ?it/s]",
      "application/vnd.jupyter.widget-view+json": {
       "version_major": 2,
       "version_minor": 0,
       "model_id": "e8dc4de62c3e4fb0aa945505cd50ce6b"
      }
     },
     "metadata": {},
     "output_type": "display_data"
    },
    {
     "data": {
      "text/plain": "Generate report structure:   0%|          | 0/1 [00:00<?, ?it/s]",
      "application/vnd.jupyter.widget-view+json": {
       "version_major": 2,
       "version_minor": 0,
       "model_id": "5e27804bef2c49f1b13cda9b415717d3"
      }
     },
     "metadata": {},
     "output_type": "display_data"
    },
    {
     "data": {
      "text/plain": "Render HTML:   0%|          | 0/1 [00:00<?, ?it/s]",
      "application/vnd.jupyter.widget-view+json": {
       "version_major": 2,
       "version_minor": 0,
       "model_id": "3e8834e9ed204c77afdd7af575d3cb65"
      }
     },
     "metadata": {},
     "output_type": "display_data"
    },
    {
     "data": {
      "text/plain": "Export report to file:   0%|          | 0/1 [00:00<?, ?it/s]",
      "application/vnd.jupyter.widget-view+json": {
       "version_major": 2,
       "version_minor": 0,
       "model_id": "f629d163d6744d08aa8e73d794ea49d5"
      }
     },
     "metadata": {},
     "output_type": "display_data"
    }
   ],
   "source": [
    "flights_df_profile.to_file(\"y_profiling_report.html\")"
   ],
   "metadata": {
    "collapsed": false,
    "ExecuteTime": {
     "end_time": "2023-12-17T09:29:25.506330Z",
     "start_time": "2023-12-17T09:20:21.722650Z"
    }
   },
   "id": "c1f534579625272e"
  },
  {
   "cell_type": "code",
   "execution_count": 23,
   "outputs": [
    {
     "data": {
      "text/plain": "                                             |          | [  0%]   00:00 -> (? left)",
      "application/vnd.jupyter.widget-view+json": {
       "version_major": 2,
       "version_minor": 0,
       "model_id": "5e802b2428c04cfaaae78c16792d0e31"
      }
     },
     "metadata": {},
     "output_type": "display_data"
    },
    {
     "ename": "TypeError",
     "evalue": "\n\nColumn [ORIGIN_AIRPORT] has a 'mixed' inferred_type (as determined by Pandas).\nThis is is not currently supported; column types should not contain mixed data.\ne.g. only floats or strings, but not a combination.\n\nPOSSIBLE RESOLUTIONS:\nBEST -> Make sure series [ORIGIN_AIRPORT] only contains a certain type of data (numerical OR string).\nOR -> Convert series [ORIGIN_AIRPORT] to a string (if makes sense) so it will be picked up as CATEGORICAL or TEXT.\n     One way to do this is:\n     df['ORIGIN_AIRPORT'] = df['ORIGIN_AIRPORT'].astype(str)\nOR -> Convert series [ORIGIN_AIRPORT] to a numerical value (if makes sense):\n     One way to do this is:\n     df['ORIGIN_AIRPORT'] = pd.to_numeric(df['ORIGIN_AIRPORT'], errors='coerce')\n     # (errors='coerce' will transform string values to NaN, that can then be replaced if desired; consult Pandas manual pages for more details)\n",
     "output_type": "error",
     "traceback": [
      "\u001B[0;31m---------------------------------------------------------------------------\u001B[0m",
      "\u001B[0;31mTypeError\u001B[0m                                 Traceback (most recent call last)",
      "Cell \u001B[0;32mIn[23], line 1\u001B[0m\n\u001B[0;32m----> 1\u001B[0m flights_df_report \u001B[38;5;241m=\u001B[39m \u001B[43msv\u001B[49m\u001B[38;5;241;43m.\u001B[39;49m\u001B[43manalyze\u001B[49m\u001B[43m(\u001B[49m\u001B[43mflights_df\u001B[49m\u001B[43m)\u001B[49m\n\u001B[1;32m      2\u001B[0m flights_df_report\u001B[38;5;241m.\u001B[39mshow_html(filepath\u001B[38;5;241m=\u001B[39m\u001B[38;5;124m'\u001B[39m\u001B[38;5;124msweetviz_report.html\u001B[39m\u001B[38;5;124m'\u001B[39m, \n\u001B[1;32m      3\u001B[0m             open_browser\u001B[38;5;241m=\u001B[39m\u001B[38;5;28;01mTrue\u001B[39;00m, \n\u001B[1;32m      4\u001B[0m             layout\u001B[38;5;241m=\u001B[39m\u001B[38;5;124m'\u001B[39m\u001B[38;5;124mwidescreen\u001B[39m\u001B[38;5;124m'\u001B[39m, \n\u001B[1;32m      5\u001B[0m             scale\u001B[38;5;241m=\u001B[39m\u001B[38;5;28;01mNone\u001B[39;00m)\n",
      "File \u001B[0;32m~/mambaforge/envs/mlp/lib/python3.8/site-packages/sweetviz/sv_public.py:12\u001B[0m, in \u001B[0;36manalyze\u001B[0;34m(source, target_feat, feat_cfg, pairwise_analysis)\u001B[0m\n\u001B[1;32m      8\u001B[0m \u001B[38;5;28;01mdef\u001B[39;00m \u001B[38;5;21manalyze\u001B[39m(source: Union[pd\u001B[38;5;241m.\u001B[39mDataFrame, Tuple[pd\u001B[38;5;241m.\u001B[39mDataFrame, \u001B[38;5;28mstr\u001B[39m]],\n\u001B[1;32m      9\u001B[0m             target_feat: \u001B[38;5;28mstr\u001B[39m \u001B[38;5;241m=\u001B[39m \u001B[38;5;28;01mNone\u001B[39;00m,\n\u001B[1;32m     10\u001B[0m             feat_cfg: FeatureConfig \u001B[38;5;241m=\u001B[39m \u001B[38;5;28;01mNone\u001B[39;00m,\n\u001B[1;32m     11\u001B[0m             pairwise_analysis: \u001B[38;5;28mstr\u001B[39m \u001B[38;5;241m=\u001B[39m \u001B[38;5;124m'\u001B[39m\u001B[38;5;124mauto\u001B[39m\u001B[38;5;124m'\u001B[39m):\n\u001B[0;32m---> 12\u001B[0m     report \u001B[38;5;241m=\u001B[39m \u001B[43msweetviz\u001B[49m\u001B[38;5;241;43m.\u001B[39;49m\u001B[43mDataframeReport\u001B[49m\u001B[43m(\u001B[49m\u001B[43msource\u001B[49m\u001B[43m,\u001B[49m\u001B[43m \u001B[49m\u001B[43mtarget_feat\u001B[49m\u001B[43m,\u001B[49m\u001B[43m \u001B[49m\u001B[38;5;28;43;01mNone\u001B[39;49;00m\u001B[43m,\u001B[49m\n\u001B[1;32m     13\u001B[0m \u001B[43m                                      \u001B[49m\u001B[43mpairwise_analysis\u001B[49m\u001B[43m,\u001B[49m\u001B[43m \u001B[49m\u001B[43mfeat_cfg\u001B[49m\u001B[43m)\u001B[49m\n\u001B[1;32m     14\u001B[0m     \u001B[38;5;28;01mreturn\u001B[39;00m report\n",
      "File \u001B[0;32m~/mambaforge/envs/mlp/lib/python3.8/site-packages/sweetviz/dataframe_report.py:277\u001B[0m, in \u001B[0;36mDataframeReport.__init__\u001B[0;34m(self, source, target_feature_name, compare, pairwise_analysis, fc, verbosity)\u001B[0m\n\u001B[1;32m    274\u001B[0m \u001B[38;5;28;01mfor\u001B[39;00m f \u001B[38;5;129;01min\u001B[39;00m features_to_process:\n\u001B[1;32m    275\u001B[0m     \u001B[38;5;66;03m# start = time.perf_counter()\u001B[39;00m\n\u001B[1;32m    276\u001B[0m     \u001B[38;5;28mself\u001B[39m\u001B[38;5;241m.\u001B[39mprogress_bar\u001B[38;5;241m.\u001B[39mset_description_str(\u001B[38;5;124mf\u001B[39m\u001B[38;5;124m\"\u001B[39m\u001B[38;5;124mFeature: \u001B[39m\u001B[38;5;132;01m{\u001B[39;00mf\u001B[38;5;241m.\u001B[39msource\u001B[38;5;241m.\u001B[39mname\u001B[38;5;132;01m}\u001B[39;00m\u001B[38;5;124m\"\u001B[39m)\n\u001B[0;32m--> 277\u001B[0m     \u001B[38;5;28mself\u001B[39m\u001B[38;5;241m.\u001B[39m_features[f\u001B[38;5;241m.\u001B[39msource\u001B[38;5;241m.\u001B[39mname] \u001B[38;5;241m=\u001B[39m \u001B[43msa\u001B[49m\u001B[38;5;241;43m.\u001B[39;49m\u001B[43manalyze_feature_to_dictionary\u001B[49m\u001B[43m(\u001B[49m\u001B[43mf\u001B[49m\u001B[43m)\u001B[49m\n\u001B[1;32m    278\u001B[0m     \u001B[38;5;28mself\u001B[39m\u001B[38;5;241m.\u001B[39mprogress_bar\u001B[38;5;241m.\u001B[39mupdate(\u001B[38;5;241m1\u001B[39m)\n\u001B[1;32m    279\u001B[0m     \u001B[38;5;66;03m# print(f\"DONE FEATURE------> {f.source.name}\"\u001B[39;00m\n\u001B[1;32m    280\u001B[0m     \u001B[38;5;66;03m#       f\" {(time.perf_counter() - start):.2f}   {self._features[f.source.name]['type']}\")\u001B[39;00m\n\u001B[1;32m    281\u001B[0m \u001B[38;5;66;03m# self.progress_bar.set_description_str('[FEATURES DONE]')\u001B[39;00m\n\u001B[1;32m    282\u001B[0m \u001B[38;5;66;03m# self.progress_bar.close()\u001B[39;00m\n\u001B[1;32m    283\u001B[0m \n\u001B[1;32m    284\u001B[0m \u001B[38;5;66;03m# Wrap up summary\u001B[39;00m\n",
      "File \u001B[0;32m~/mambaforge/envs/mlp/lib/python3.8/site-packages/sweetviz/series_analyzer.py:99\u001B[0m, in \u001B[0;36manalyze_feature_to_dictionary\u001B[0;34m(to_process)\u001B[0m\n\u001B[1;32m     97\u001B[0m \u001B[38;5;66;03m# Determine SOURCE feature type\u001B[39;00m\n\u001B[1;32m     98\u001B[0m to_process\u001B[38;5;241m.\u001B[39msource_counts \u001B[38;5;241m=\u001B[39m get_counts(to_process\u001B[38;5;241m.\u001B[39msource)\n\u001B[0;32m---> 99\u001B[0m returned_feature_dict[\u001B[38;5;124m\"\u001B[39m\u001B[38;5;124mtype\u001B[39m\u001B[38;5;124m\"\u001B[39m] \u001B[38;5;241m=\u001B[39m \u001B[43mdetermine_feature_type\u001B[49m\u001B[43m(\u001B[49m\u001B[43mto_process\u001B[49m\u001B[38;5;241;43m.\u001B[39;49m\u001B[43msource\u001B[49m\u001B[43m,\u001B[49m\u001B[43m \u001B[49m\u001B[43mto_process\u001B[49m\u001B[38;5;241;43m.\u001B[39;49m\u001B[43msource_counts\u001B[49m\u001B[43m,\u001B[49m\n\u001B[1;32m    100\u001B[0m \u001B[43m                                                       \u001B[49m\u001B[43mto_process\u001B[49m\u001B[38;5;241;43m.\u001B[39;49m\u001B[43mpredetermined_type\u001B[49m\u001B[43m,\u001B[49m\u001B[43m \u001B[49m\u001B[38;5;124;43m\"\u001B[39;49m\u001B[38;5;124;43mSOURCE\u001B[39;49m\u001B[38;5;124;43m\"\u001B[39;49m\u001B[43m)\u001B[49m\n\u001B[1;32m    101\u001B[0m source_type \u001B[38;5;241m=\u001B[39m returned_feature_dict[\u001B[38;5;124m\"\u001B[39m\u001B[38;5;124mtype\u001B[39m\u001B[38;5;124m\"\u001B[39m]\n\u001B[1;32m    103\u001B[0m \u001B[38;5;66;03m# Determine COMPARED feature type & initialize\u001B[39;00m\n",
      "File \u001B[0;32m~/mambaforge/envs/mlp/lib/python3.8/site-packages/sweetviz/type_detection.py:13\u001B[0m, in \u001B[0;36mdetermine_feature_type\u001B[0;34m(series, counts, must_be_this_type, which_dataframe)\u001B[0m\n\u001B[1;32m      6\u001B[0m \u001B[38;5;28;01mdef\u001B[39;00m \u001B[38;5;21mdetermine_feature_type\u001B[39m(series: pd\u001B[38;5;241m.\u001B[39mSeries, counts: \u001B[38;5;28mdict\u001B[39m,\n\u001B[1;32m      7\u001B[0m         must_be_this_type: FeatureType, which_dataframe: \u001B[38;5;28mstr\u001B[39m) \u001B[38;5;241m-\u001B[39m\u001B[38;5;241m>\u001B[39m \u001B[38;5;28mobject\u001B[39m:\n\u001B[1;32m      8\u001B[0m     \u001B[38;5;66;03m# Replace infinite values with NaNs to avoid issues with histograms\u001B[39;00m\n\u001B[1;32m      9\u001B[0m     \u001B[38;5;66;03m# TODO: INFINITE VALUE HANDLING/WARNING\u001B[39;00m\n\u001B[1;32m     10\u001B[0m     \u001B[38;5;66;03m# series.replace(to_replace=[np.inf, np.NINF, np.PINF], value=np.nan,\u001B[39;00m\n\u001B[1;32m     11\u001B[0m     \u001B[38;5;66;03m#                inplace=True)\u001B[39;00m\n\u001B[1;32m     12\u001B[0m     \u001B[38;5;28;01mif\u001B[39;00m counts[\u001B[38;5;124m\"\u001B[39m\u001B[38;5;124mvalue_counts_without_nan\u001B[39m\u001B[38;5;124m\"\u001B[39m]\u001B[38;5;241m.\u001B[39mindex\u001B[38;5;241m.\u001B[39minferred_type\u001B[38;5;241m.\u001B[39mstartswith(\u001B[38;5;124m\"\u001B[39m\u001B[38;5;124mmixed\u001B[39m\u001B[38;5;124m\"\u001B[39m):\n\u001B[0;32m---> 13\u001B[0m         \u001B[38;5;28;01mraise\u001B[39;00m \u001B[38;5;167;01mTypeError\u001B[39;00m(\u001B[38;5;124mf\u001B[39m\u001B[38;5;124m\"\u001B[39m\u001B[38;5;130;01m\\n\u001B[39;00m\u001B[38;5;130;01m\\n\u001B[39;00m\u001B[38;5;124mColumn [\u001B[39m\u001B[38;5;132;01m{\u001B[39;00mseries\u001B[38;5;241m.\u001B[39mname\u001B[38;5;132;01m}\u001B[39;00m\u001B[38;5;124m] has a \u001B[39m\u001B[38;5;124m'\u001B[39m\u001B[38;5;124mmixed\u001B[39m\u001B[38;5;124m'\u001B[39m\u001B[38;5;124m inferred_type (as determined by Pandas).\u001B[39m\u001B[38;5;130;01m\\n\u001B[39;00m\u001B[38;5;124m\"\u001B[39m\n\u001B[1;32m     14\u001B[0m                         \u001B[38;5;124mf\u001B[39m\u001B[38;5;124m\"\u001B[39m\u001B[38;5;124mThis is is not currently supported; column types should not contain mixed data.\u001B[39m\u001B[38;5;130;01m\\n\u001B[39;00m\u001B[38;5;124m\"\u001B[39m\n\u001B[1;32m     15\u001B[0m                         \u001B[38;5;124mf\u001B[39m\u001B[38;5;124m\"\u001B[39m\u001B[38;5;124me.g. only floats or strings, but not a combination.\u001B[39m\u001B[38;5;130;01m\\n\u001B[39;00m\u001B[38;5;130;01m\\n\u001B[39;00m\u001B[38;5;124m\"\u001B[39m\n\u001B[1;32m     16\u001B[0m                         \u001B[38;5;124mf\u001B[39m\u001B[38;5;124m\"\u001B[39m\u001B[38;5;124mPOSSIBLE RESOLUTIONS:\u001B[39m\u001B[38;5;130;01m\\n\u001B[39;00m\u001B[38;5;124m\"\u001B[39m\n\u001B[1;32m     17\u001B[0m                         \u001B[38;5;124mf\u001B[39m\u001B[38;5;124m\"\u001B[39m\u001B[38;5;124mBEST -> Make sure series [\u001B[39m\u001B[38;5;132;01m{\u001B[39;00mseries\u001B[38;5;241m.\u001B[39mname\u001B[38;5;132;01m}\u001B[39;00m\u001B[38;5;124m] only contains a certain type of data (numerical OR string).\u001B[39m\u001B[38;5;130;01m\\n\u001B[39;00m\u001B[38;5;124m\"\u001B[39m\n\u001B[1;32m     18\u001B[0m                         \u001B[38;5;124mf\u001B[39m\u001B[38;5;124m\"\u001B[39m\u001B[38;5;124mOR -> Convert series [\u001B[39m\u001B[38;5;132;01m{\u001B[39;00mseries\u001B[38;5;241m.\u001B[39mname\u001B[38;5;132;01m}\u001B[39;00m\u001B[38;5;124m] to a string (if makes sense) so it will be picked up as CATEGORICAL or TEXT.\u001B[39m\u001B[38;5;130;01m\\n\u001B[39;00m\u001B[38;5;124m\"\u001B[39m\n\u001B[1;32m     19\u001B[0m                         \u001B[38;5;124mf\u001B[39m\u001B[38;5;124m\"\u001B[39m\u001B[38;5;124m     One way to do this is:\u001B[39m\u001B[38;5;130;01m\\n\u001B[39;00m\u001B[38;5;124m\"\u001B[39m\n\u001B[1;32m     20\u001B[0m                         \u001B[38;5;124mf\u001B[39m\u001B[38;5;124m\"\u001B[39m\u001B[38;5;124m     df[\u001B[39m\u001B[38;5;124m'\u001B[39m\u001B[38;5;132;01m{\u001B[39;00mseries\u001B[38;5;241m.\u001B[39mname\u001B[38;5;132;01m}\u001B[39;00m\u001B[38;5;124m'\u001B[39m\u001B[38;5;124m] = df[\u001B[39m\u001B[38;5;124m'\u001B[39m\u001B[38;5;132;01m{\u001B[39;00mseries\u001B[38;5;241m.\u001B[39mname\u001B[38;5;132;01m}\u001B[39;00m\u001B[38;5;124m'\u001B[39m\u001B[38;5;124m].astype(str)\u001B[39m\u001B[38;5;130;01m\\n\u001B[39;00m\u001B[38;5;124m\"\u001B[39m\n\u001B[1;32m     21\u001B[0m                         \u001B[38;5;124mf\u001B[39m\u001B[38;5;124m\"\u001B[39m\u001B[38;5;124mOR -> Convert series [\u001B[39m\u001B[38;5;132;01m{\u001B[39;00mseries\u001B[38;5;241m.\u001B[39mname\u001B[38;5;132;01m}\u001B[39;00m\u001B[38;5;124m] to a numerical value (if makes sense):\u001B[39m\u001B[38;5;130;01m\\n\u001B[39;00m\u001B[38;5;124m\"\u001B[39m\n\u001B[1;32m     22\u001B[0m                         \u001B[38;5;124mf\u001B[39m\u001B[38;5;124m\"\u001B[39m\u001B[38;5;124m     One way to do this is:\u001B[39m\u001B[38;5;130;01m\\n\u001B[39;00m\u001B[38;5;124m\"\u001B[39m\n\u001B[1;32m     23\u001B[0m                         \u001B[38;5;124mf\u001B[39m\u001B[38;5;124m\"\u001B[39m\u001B[38;5;124m     df[\u001B[39m\u001B[38;5;124m'\u001B[39m\u001B[38;5;132;01m{\u001B[39;00mseries\u001B[38;5;241m.\u001B[39mname\u001B[38;5;132;01m}\u001B[39;00m\u001B[38;5;124m'\u001B[39m\u001B[38;5;124m] = pd.to_numeric(df[\u001B[39m\u001B[38;5;124m'\u001B[39m\u001B[38;5;132;01m{\u001B[39;00mseries\u001B[38;5;241m.\u001B[39mname\u001B[38;5;132;01m}\u001B[39;00m\u001B[38;5;124m'\u001B[39m\u001B[38;5;124m], errors=\u001B[39m\u001B[38;5;124m'\u001B[39m\u001B[38;5;124mcoerce\u001B[39m\u001B[38;5;124m'\u001B[39m\u001B[38;5;124m)\u001B[39m\u001B[38;5;130;01m\\n\u001B[39;00m\u001B[38;5;124m\"\u001B[39m\n\u001B[1;32m     24\u001B[0m                         \u001B[38;5;124mf\u001B[39m\u001B[38;5;124m\"\u001B[39m\u001B[38;5;124m     # (errors=\u001B[39m\u001B[38;5;124m'\u001B[39m\u001B[38;5;124mcoerce\u001B[39m\u001B[38;5;124m'\u001B[39m\u001B[38;5;124m will transform string values to NaN, that can then be replaced if desired;\u001B[39m\u001B[38;5;124m\"\u001B[39m\n\u001B[1;32m     25\u001B[0m                         \u001B[38;5;124mf\u001B[39m\u001B[38;5;124m\"\u001B[39m\u001B[38;5;124m consult Pandas manual pages for more details)\u001B[39m\u001B[38;5;130;01m\\n\u001B[39;00m\u001B[38;5;124m\"\u001B[39m\n\u001B[1;32m     26\u001B[0m                         )\n\u001B[1;32m     28\u001B[0m     \u001B[38;5;28;01mtry\u001B[39;00m:\n\u001B[1;32m     29\u001B[0m         \u001B[38;5;66;03m# TODO: must_be_this_type ENFORCING\u001B[39;00m\n\u001B[1;32m     30\u001B[0m         \u001B[38;5;28;01mif\u001B[39;00m counts[\u001B[38;5;124m\"\u001B[39m\u001B[38;5;124mdistinct_count_without_nan\u001B[39m\u001B[38;5;124m\"\u001B[39m] \u001B[38;5;241m==\u001B[39m \u001B[38;5;241m0\u001B[39m:\n\u001B[1;32m     31\u001B[0m             \u001B[38;5;66;03m# Empty\u001B[39;00m\n",
      "\u001B[0;31mTypeError\u001B[0m: \n\nColumn [ORIGIN_AIRPORT] has a 'mixed' inferred_type (as determined by Pandas).\nThis is is not currently supported; column types should not contain mixed data.\ne.g. only floats or strings, but not a combination.\n\nPOSSIBLE RESOLUTIONS:\nBEST -> Make sure series [ORIGIN_AIRPORT] only contains a certain type of data (numerical OR string).\nOR -> Convert series [ORIGIN_AIRPORT] to a string (if makes sense) so it will be picked up as CATEGORICAL or TEXT.\n     One way to do this is:\n     df['ORIGIN_AIRPORT'] = df['ORIGIN_AIRPORT'].astype(str)\nOR -> Convert series [ORIGIN_AIRPORT] to a numerical value (if makes sense):\n     One way to do this is:\n     df['ORIGIN_AIRPORT'] = pd.to_numeric(df['ORIGIN_AIRPORT'], errors='coerce')\n     # (errors='coerce' will transform string values to NaN, that can then be replaced if desired; consult Pandas manual pages for more details)\n"
     ]
    }
   ],
   "source": [
    "flights_df_report = sv.analyze(flights_df)\n",
    "flights_df_report.show_html(filepath='sweetviz_report.html', \n",
    "            open_browser=True, \n",
    "            layout='widescreen', \n",
    "            scale=None)"
   ],
   "metadata": {
    "collapsed": false,
    "ExecuteTime": {
     "end_time": "2023-12-17T09:29:41.560228Z",
     "start_time": "2023-12-17T09:29:25.506261Z"
    }
   },
   "id": "4bfe15ffa8572ce3"
  }
 ],
 "metadata": {
  "kernelspec": {
   "display_name": "Python 3",
   "language": "python",
   "name": "python3"
  },
  "language_info": {
   "codemirror_mode": {
    "name": "ipython",
    "version": 2
   },
   "file_extension": ".py",
   "mimetype": "text/x-python",
   "name": "python",
   "nbconvert_exporter": "python",
   "pygments_lexer": "ipython2",
   "version": "2.7.6"
  }
 },
 "nbformat": 4,
 "nbformat_minor": 5
}
