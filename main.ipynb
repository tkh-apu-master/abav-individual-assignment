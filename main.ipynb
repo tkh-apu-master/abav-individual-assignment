{
 "cells": [
  {
   "cell_type": "markdown",
   "source": [
    "Airline Delay Analysis"
   ],
   "metadata": {
    "collapsed": false
   },
   "id": "b515f31273e14ebf"
  },
  {
   "cell_type": "code",
   "execution_count": 1,
   "outputs": [
    {
     "name": "stdout",
     "output_type": "stream",
     "text": [
      "Requirement already satisfied: imbalanced-learn in /Users/teohkhenghong/mambaforge/envs/mlp/lib/python3.8/site-packages (0.11.0)\r\n",
      "Requirement already satisfied: numpy>=1.17.3 in /Users/teohkhenghong/mambaforge/envs/mlp/lib/python3.8/site-packages (from imbalanced-learn) (1.23.2)\r\n",
      "Requirement already satisfied: scipy>=1.5.0 in /Users/teohkhenghong/mambaforge/envs/mlp/lib/python3.8/site-packages (from imbalanced-learn) (1.10.1)\r\n",
      "Requirement already satisfied: scikit-learn>=1.0.2 in /Users/teohkhenghong/mambaforge/envs/mlp/lib/python3.8/site-packages (from imbalanced-learn) (1.3.2)\r\n",
      "Requirement already satisfied: joblib>=1.1.1 in /Users/teohkhenghong/mambaforge/envs/mlp/lib/python3.8/site-packages (from imbalanced-learn) (1.2.0)\r\n",
      "Requirement already satisfied: threadpoolctl>=2.0.0 in /Users/teohkhenghong/mambaforge/envs/mlp/lib/python3.8/site-packages (from imbalanced-learn) (3.1.0)\r\n",
      "Note: you may need to restart the kernel to use updated packages.\n"
     ]
    }
   ],
   "source": [
    "pip install --upgrade imbalanced-learn"
   ],
   "metadata": {
    "collapsed": false,
    "ExecuteTime": {
     "end_time": "2023-11-27T06:05:46.375588Z",
     "start_time": "2023-11-27T06:05:44.416589Z"
    }
   },
   "id": "b364f4bc1b67ab01"
  },
  {
   "cell_type": "code",
   "execution_count": 2,
   "outputs": [
    {
     "name": "stdout",
     "output_type": "stream",
     "text": [
      "Requirement already satisfied: scikit-learn in /Users/teohkhenghong/mambaforge/envs/mlp/lib/python3.8/site-packages (1.3.2)\r\n",
      "Requirement already satisfied: numpy<2.0,>=1.17.3 in /Users/teohkhenghong/mambaforge/envs/mlp/lib/python3.8/site-packages (from scikit-learn) (1.23.2)\r\n",
      "Requirement already satisfied: scipy>=1.5.0 in /Users/teohkhenghong/mambaforge/envs/mlp/lib/python3.8/site-packages (from scikit-learn) (1.10.1)\r\n",
      "Requirement already satisfied: joblib>=1.1.1 in /Users/teohkhenghong/mambaforge/envs/mlp/lib/python3.8/site-packages (from scikit-learn) (1.2.0)\r\n",
      "Requirement already satisfied: threadpoolctl>=2.0.0 in /Users/teohkhenghong/mambaforge/envs/mlp/lib/python3.8/site-packages (from scikit-learn) (3.1.0)\r\n",
      "Note: you may need to restart the kernel to use updated packages.\n"
     ]
    }
   ],
   "source": [
    "pip install --upgrade scikit-learn"
   ],
   "metadata": {
    "collapsed": false,
    "ExecuteTime": {
     "end_time": "2023-11-27T06:05:48.257827Z",
     "start_time": "2023-11-27T06:05:46.370600Z"
    }
   },
   "id": "b5b9d67f8874612"
  },
  {
   "cell_type": "code",
   "execution_count": 6,
   "outputs": [],
   "source": [
    "import pandas as pd\n",
    "import numpy as np\n",
    "\n",
    "import warnings\n",
    "warnings.filterwarnings('ignore')\n",
    "\n",
    "# Class balancing\n",
    "from imblearn.over_sampling import SMOTE\n",
    "\n",
    "# Model Selection and Evaluation\n",
    "from sklearn.model_selection import train_test_split\n",
    "from sklearn.feature_extraction.text import TfidfVectorizer, CountVectorizer\n",
    "from sklearn.preprocessing import LabelEncoder\n",
    "from sklearn.model_selection import GridSearchCV\n",
    "from sklearn.metrics import (\n",
    "recall_score, accuracy_score, confusion_matrix,\n",
    "classification_report, f1_score, precision_score,\n",
    "precision_recall_fscore_support\n",
    ")\n",
    "from sklearn.model_selection import cross_val_score\n",
    "\n",
    "from sklearn.linear_model import LogisticRegression\n",
    "from sklearn.ensemble import RandomForestClassifier\n",
    "\n",
    "\n",
    "# Data Visualization\n",
    "import matplotlib.pyplot as plt\n",
    "import seaborn as sns\n",
    "import plotly.graph_objects as go\n",
    "\n",
    "# Word Cloud\n",
    "from wordcloud import STOPWORDS, WordCloud\n",
    "\n",
    "# Configuration\n",
    "# Remove the limit for the number of displayed columns\n",
    "pd.set_option(\"display.max_columns\", None)\n",
    "\n",
    "# Set the limit for the number of displayed rows\n",
    "pd.set_option(\"display.max_rows\", 200)"
   ],
   "metadata": {
    "collapsed": false,
    "ExecuteTime": {
     "end_time": "2023-11-27T06:19:33.168Z",
     "start_time": "2023-11-27T06:19:33.165639Z"
    }
   },
   "id": "45acea4b3c252de0"
  },
  {
   "cell_type": "code",
   "execution_count": 7,
   "outputs": [],
   "source": [
    "airlines_df = pd.read_csv('airlines.csv')\n",
    "airports_df = pd.read_csv('airports.csv')\n",
    "flights_df = pd.read_csv('flights.csv')"
   ],
   "metadata": {
    "collapsed": false,
    "ExecuteTime": {
     "end_time": "2023-11-27T06:19:44.707118Z",
     "start_time": "2023-11-27T06:19:36.645375Z"
    }
   },
   "id": "d4d9a7b992e0dcf0"
  },
  {
   "cell_type": "code",
   "execution_count": 9,
   "outputs": [
    {
     "name": "stdout",
     "output_type": "stream",
     "text": [
      "(14, 2)\n"
     ]
    },
    {
     "data": {
      "text/plain": "  IATA_CODE                 AIRLINE\n0        UA   United Air Lines Inc.\n1        AA  American Airlines Inc.\n2        US         US Airways Inc.\n3        F9  Frontier Airlines Inc.\n4        B6         JetBlue Airways",
      "text/html": "<div>\n<style scoped>\n    .dataframe tbody tr th:only-of-type {\n        vertical-align: middle;\n    }\n\n    .dataframe tbody tr th {\n        vertical-align: top;\n    }\n\n    .dataframe thead th {\n        text-align: right;\n    }\n</style>\n<table border=\"1\" class=\"dataframe\">\n  <thead>\n    <tr style=\"text-align: right;\">\n      <th></th>\n      <th>IATA_CODE</th>\n      <th>AIRLINE</th>\n    </tr>\n  </thead>\n  <tbody>\n    <tr>\n      <th>0</th>\n      <td>UA</td>\n      <td>United Air Lines Inc.</td>\n    </tr>\n    <tr>\n      <th>1</th>\n      <td>AA</td>\n      <td>American Airlines Inc.</td>\n    </tr>\n    <tr>\n      <th>2</th>\n      <td>US</td>\n      <td>US Airways Inc.</td>\n    </tr>\n    <tr>\n      <th>3</th>\n      <td>F9</td>\n      <td>Frontier Airlines Inc.</td>\n    </tr>\n    <tr>\n      <th>4</th>\n      <td>B6</td>\n      <td>JetBlue Airways</td>\n    </tr>\n  </tbody>\n</table>\n</div>"
     },
     "execution_count": 9,
     "metadata": {},
     "output_type": "execute_result"
    }
   ],
   "source": [
    "print(airlines_df.shape)\n",
    "airlines_df.head()"
   ],
   "metadata": {
    "collapsed": false,
    "ExecuteTime": {
     "end_time": "2023-11-27T06:24:29.615934Z",
     "start_time": "2023-11-27T06:24:29.569753Z"
    }
   },
   "id": "8eaae4bed991c945"
  },
  {
   "cell_type": "code",
   "execution_count": 10,
   "outputs": [
    {
     "name": "stdout",
     "output_type": "stream",
     "text": [
      "(322, 7)\n"
     ]
    },
    {
     "data": {
      "text/plain": "  IATA_CODE                              AIRPORT         CITY STATE COUNTRY  \\\n0       ABE  Lehigh Valley International Airport    Allentown    PA     USA   \n1       ABI             Abilene Regional Airport      Abilene    TX     USA   \n2       ABQ    Albuquerque International Sunport  Albuquerque    NM     USA   \n3       ABR            Aberdeen Regional Airport     Aberdeen    SD     USA   \n4       ABY   Southwest Georgia Regional Airport       Albany    GA     USA   \n\n   LATITUDE  LONGITUDE  \n0  40.65236  -75.44040  \n1  32.41132  -99.68190  \n2  35.04022 -106.60919  \n3  45.44906  -98.42183  \n4  31.53552  -84.19447  ",
      "text/html": "<div>\n<style scoped>\n    .dataframe tbody tr th:only-of-type {\n        vertical-align: middle;\n    }\n\n    .dataframe tbody tr th {\n        vertical-align: top;\n    }\n\n    .dataframe thead th {\n        text-align: right;\n    }\n</style>\n<table border=\"1\" class=\"dataframe\">\n  <thead>\n    <tr style=\"text-align: right;\">\n      <th></th>\n      <th>IATA_CODE</th>\n      <th>AIRPORT</th>\n      <th>CITY</th>\n      <th>STATE</th>\n      <th>COUNTRY</th>\n      <th>LATITUDE</th>\n      <th>LONGITUDE</th>\n    </tr>\n  </thead>\n  <tbody>\n    <tr>\n      <th>0</th>\n      <td>ABE</td>\n      <td>Lehigh Valley International Airport</td>\n      <td>Allentown</td>\n      <td>PA</td>\n      <td>USA</td>\n      <td>40.65236</td>\n      <td>-75.44040</td>\n    </tr>\n    <tr>\n      <th>1</th>\n      <td>ABI</td>\n      <td>Abilene Regional Airport</td>\n      <td>Abilene</td>\n      <td>TX</td>\n      <td>USA</td>\n      <td>32.41132</td>\n      <td>-99.68190</td>\n    </tr>\n    <tr>\n      <th>2</th>\n      <td>ABQ</td>\n      <td>Albuquerque International Sunport</td>\n      <td>Albuquerque</td>\n      <td>NM</td>\n      <td>USA</td>\n      <td>35.04022</td>\n      <td>-106.60919</td>\n    </tr>\n    <tr>\n      <th>3</th>\n      <td>ABR</td>\n      <td>Aberdeen Regional Airport</td>\n      <td>Aberdeen</td>\n      <td>SD</td>\n      <td>USA</td>\n      <td>45.44906</td>\n      <td>-98.42183</td>\n    </tr>\n    <tr>\n      <th>4</th>\n      <td>ABY</td>\n      <td>Southwest Georgia Regional Airport</td>\n      <td>Albany</td>\n      <td>GA</td>\n      <td>USA</td>\n      <td>31.53552</td>\n      <td>-84.19447</td>\n    </tr>\n  </tbody>\n</table>\n</div>"
     },
     "execution_count": 10,
     "metadata": {},
     "output_type": "execute_result"
    }
   ],
   "source": [
    "print(airports_df.shape)\n",
    "airports_df.head()"
   ],
   "metadata": {
    "collapsed": false,
    "ExecuteTime": {
     "end_time": "2023-11-27T06:24:30.172094Z",
     "start_time": "2023-11-27T06:24:30.168498Z"
    }
   },
   "id": "5a763f5fc43e404b"
  },
  {
   "cell_type": "code",
   "execution_count": 11,
   "outputs": [
    {
     "name": "stdout",
     "output_type": "stream",
     "text": [
      "(5819079, 31)\n"
     ]
    },
    {
     "data": {
      "text/plain": "   YEAR  MONTH  DAY  DAY_OF_WEEK AIRLINE  FLIGHT_NUMBER TAIL_NUMBER  \\\n0  2015      1    1            4      AS             98      N407AS   \n1  2015      1    1            4      AA           2336      N3KUAA   \n2  2015      1    1            4      US            840      N171US   \n3  2015      1    1            4      AA            258      N3HYAA   \n4  2015      1    1            4      AS            135      N527AS   \n\n  ORIGIN_AIRPORT DESTINATION_AIRPORT  SCHEDULED_DEPARTURE  DEPARTURE_TIME  \\\n0            ANC                 SEA                    5          2354.0   \n1            LAX                 PBI                   10             2.0   \n2            SFO                 CLT                   20            18.0   \n3            LAX                 MIA                   20            15.0   \n4            SEA                 ANC                   25            24.0   \n\n   DEPARTURE_DELAY  TAXI_OUT  WHEELS_OFF  SCHEDULED_TIME  ELAPSED_TIME  \\\n0            -11.0      21.0        15.0           205.0         194.0   \n1             -8.0      12.0        14.0           280.0         279.0   \n2             -2.0      16.0        34.0           286.0         293.0   \n3             -5.0      15.0        30.0           285.0         281.0   \n4             -1.0      11.0        35.0           235.0         215.0   \n\n   AIR_TIME  DISTANCE  WHEELS_ON  TAXI_IN  SCHEDULED_ARRIVAL  ARRIVAL_TIME  \\\n0     169.0      1448      404.0      4.0                430         408.0   \n1     263.0      2330      737.0      4.0                750         741.0   \n2     266.0      2296      800.0     11.0                806         811.0   \n3     258.0      2342      748.0      8.0                805         756.0   \n4     199.0      1448      254.0      5.0                320         259.0   \n\n   ARRIVAL_DELAY  DIVERTED  CANCELLED CANCELLATION_REASON  AIR_SYSTEM_DELAY  \\\n0          -22.0         0          0                 NaN               NaN   \n1           -9.0         0          0                 NaN               NaN   \n2            5.0         0          0                 NaN               NaN   \n3           -9.0         0          0                 NaN               NaN   \n4          -21.0         0          0                 NaN               NaN   \n\n   SECURITY_DELAY  AIRLINE_DELAY  LATE_AIRCRAFT_DELAY  WEATHER_DELAY  \n0             NaN            NaN                  NaN            NaN  \n1             NaN            NaN                  NaN            NaN  \n2             NaN            NaN                  NaN            NaN  \n3             NaN            NaN                  NaN            NaN  \n4             NaN            NaN                  NaN            NaN  ",
      "text/html": "<div>\n<style scoped>\n    .dataframe tbody tr th:only-of-type {\n        vertical-align: middle;\n    }\n\n    .dataframe tbody tr th {\n        vertical-align: top;\n    }\n\n    .dataframe thead th {\n        text-align: right;\n    }\n</style>\n<table border=\"1\" class=\"dataframe\">\n  <thead>\n    <tr style=\"text-align: right;\">\n      <th></th>\n      <th>YEAR</th>\n      <th>MONTH</th>\n      <th>DAY</th>\n      <th>DAY_OF_WEEK</th>\n      <th>AIRLINE</th>\n      <th>FLIGHT_NUMBER</th>\n      <th>TAIL_NUMBER</th>\n      <th>ORIGIN_AIRPORT</th>\n      <th>DESTINATION_AIRPORT</th>\n      <th>SCHEDULED_DEPARTURE</th>\n      <th>DEPARTURE_TIME</th>\n      <th>DEPARTURE_DELAY</th>\n      <th>TAXI_OUT</th>\n      <th>WHEELS_OFF</th>\n      <th>SCHEDULED_TIME</th>\n      <th>ELAPSED_TIME</th>\n      <th>AIR_TIME</th>\n      <th>DISTANCE</th>\n      <th>WHEELS_ON</th>\n      <th>TAXI_IN</th>\n      <th>SCHEDULED_ARRIVAL</th>\n      <th>ARRIVAL_TIME</th>\n      <th>ARRIVAL_DELAY</th>\n      <th>DIVERTED</th>\n      <th>CANCELLED</th>\n      <th>CANCELLATION_REASON</th>\n      <th>AIR_SYSTEM_DELAY</th>\n      <th>SECURITY_DELAY</th>\n      <th>AIRLINE_DELAY</th>\n      <th>LATE_AIRCRAFT_DELAY</th>\n      <th>WEATHER_DELAY</th>\n    </tr>\n  </thead>\n  <tbody>\n    <tr>\n      <th>0</th>\n      <td>2015</td>\n      <td>1</td>\n      <td>1</td>\n      <td>4</td>\n      <td>AS</td>\n      <td>98</td>\n      <td>N407AS</td>\n      <td>ANC</td>\n      <td>SEA</td>\n      <td>5</td>\n      <td>2354.0</td>\n      <td>-11.0</td>\n      <td>21.0</td>\n      <td>15.0</td>\n      <td>205.0</td>\n      <td>194.0</td>\n      <td>169.0</td>\n      <td>1448</td>\n      <td>404.0</td>\n      <td>4.0</td>\n      <td>430</td>\n      <td>408.0</td>\n      <td>-22.0</td>\n      <td>0</td>\n      <td>0</td>\n      <td>NaN</td>\n      <td>NaN</td>\n      <td>NaN</td>\n      <td>NaN</td>\n      <td>NaN</td>\n      <td>NaN</td>\n    </tr>\n    <tr>\n      <th>1</th>\n      <td>2015</td>\n      <td>1</td>\n      <td>1</td>\n      <td>4</td>\n      <td>AA</td>\n      <td>2336</td>\n      <td>N3KUAA</td>\n      <td>LAX</td>\n      <td>PBI</td>\n      <td>10</td>\n      <td>2.0</td>\n      <td>-8.0</td>\n      <td>12.0</td>\n      <td>14.0</td>\n      <td>280.0</td>\n      <td>279.0</td>\n      <td>263.0</td>\n      <td>2330</td>\n      <td>737.0</td>\n      <td>4.0</td>\n      <td>750</td>\n      <td>741.0</td>\n      <td>-9.0</td>\n      <td>0</td>\n      <td>0</td>\n      <td>NaN</td>\n      <td>NaN</td>\n      <td>NaN</td>\n      <td>NaN</td>\n      <td>NaN</td>\n      <td>NaN</td>\n    </tr>\n    <tr>\n      <th>2</th>\n      <td>2015</td>\n      <td>1</td>\n      <td>1</td>\n      <td>4</td>\n      <td>US</td>\n      <td>840</td>\n      <td>N171US</td>\n      <td>SFO</td>\n      <td>CLT</td>\n      <td>20</td>\n      <td>18.0</td>\n      <td>-2.0</td>\n      <td>16.0</td>\n      <td>34.0</td>\n      <td>286.0</td>\n      <td>293.0</td>\n      <td>266.0</td>\n      <td>2296</td>\n      <td>800.0</td>\n      <td>11.0</td>\n      <td>806</td>\n      <td>811.0</td>\n      <td>5.0</td>\n      <td>0</td>\n      <td>0</td>\n      <td>NaN</td>\n      <td>NaN</td>\n      <td>NaN</td>\n      <td>NaN</td>\n      <td>NaN</td>\n      <td>NaN</td>\n    </tr>\n    <tr>\n      <th>3</th>\n      <td>2015</td>\n      <td>1</td>\n      <td>1</td>\n      <td>4</td>\n      <td>AA</td>\n      <td>258</td>\n      <td>N3HYAA</td>\n      <td>LAX</td>\n      <td>MIA</td>\n      <td>20</td>\n      <td>15.0</td>\n      <td>-5.0</td>\n      <td>15.0</td>\n      <td>30.0</td>\n      <td>285.0</td>\n      <td>281.0</td>\n      <td>258.0</td>\n      <td>2342</td>\n      <td>748.0</td>\n      <td>8.0</td>\n      <td>805</td>\n      <td>756.0</td>\n      <td>-9.0</td>\n      <td>0</td>\n      <td>0</td>\n      <td>NaN</td>\n      <td>NaN</td>\n      <td>NaN</td>\n      <td>NaN</td>\n      <td>NaN</td>\n      <td>NaN</td>\n    </tr>\n    <tr>\n      <th>4</th>\n      <td>2015</td>\n      <td>1</td>\n      <td>1</td>\n      <td>4</td>\n      <td>AS</td>\n      <td>135</td>\n      <td>N527AS</td>\n      <td>SEA</td>\n      <td>ANC</td>\n      <td>25</td>\n      <td>24.0</td>\n      <td>-1.0</td>\n      <td>11.0</td>\n      <td>35.0</td>\n      <td>235.0</td>\n      <td>215.0</td>\n      <td>199.0</td>\n      <td>1448</td>\n      <td>254.0</td>\n      <td>5.0</td>\n      <td>320</td>\n      <td>259.0</td>\n      <td>-21.0</td>\n      <td>0</td>\n      <td>0</td>\n      <td>NaN</td>\n      <td>NaN</td>\n      <td>NaN</td>\n      <td>NaN</td>\n      <td>NaN</td>\n      <td>NaN</td>\n    </tr>\n  </tbody>\n</table>\n</div>"
     },
     "execution_count": 11,
     "metadata": {},
     "output_type": "execute_result"
    }
   ],
   "source": [
    "print(flights_df.shape)\n",
    "flights_df.head()"
   ],
   "metadata": {
    "collapsed": false,
    "ExecuteTime": {
     "end_time": "2023-11-27T06:24:30.587233Z",
     "start_time": "2023-11-27T06:24:30.574434Z"
    }
   },
   "id": "27a8ac2c604fe137"
  },
  {
   "cell_type": "code",
   "execution_count": 12,
   "outputs": [
    {
     "name": "stdout",
     "output_type": "stream",
     "text": [
      "<class 'pandas.core.frame.DataFrame'>\n",
      "RangeIndex: 14 entries, 0 to 13\n",
      "Data columns (total 2 columns):\n",
      " #   Column     Non-Null Count  Dtype \n",
      "---  ------     --------------  ----- \n",
      " 0   IATA_CODE  14 non-null     object\n",
      " 1   AIRLINE    14 non-null     object\n",
      "dtypes: object(2)\n",
      "memory usage: 352.0+ bytes\n"
     ]
    }
   ],
   "source": [
    "airlines_df.info()"
   ],
   "metadata": {
    "collapsed": false,
    "ExecuteTime": {
     "end_time": "2023-11-27T06:24:53.334226Z",
     "start_time": "2023-11-27T06:24:53.319131Z"
    }
   },
   "id": "23afee18da2875e8"
  },
  {
   "cell_type": "code",
   "execution_count": 13,
   "outputs": [
    {
     "name": "stdout",
     "output_type": "stream",
     "text": [
      "<class 'pandas.core.frame.DataFrame'>\n",
      "RangeIndex: 322 entries, 0 to 321\n",
      "Data columns (total 7 columns):\n",
      " #   Column     Non-Null Count  Dtype  \n",
      "---  ------     --------------  -----  \n",
      " 0   IATA_CODE  322 non-null    object \n",
      " 1   AIRPORT    322 non-null    object \n",
      " 2   CITY       322 non-null    object \n",
      " 3   STATE      322 non-null    object \n",
      " 4   COUNTRY    322 non-null    object \n",
      " 5   LATITUDE   319 non-null    float64\n",
      " 6   LONGITUDE  319 non-null    float64\n",
      "dtypes: float64(2), object(5)\n",
      "memory usage: 17.7+ KB\n"
     ]
    }
   ],
   "source": [
    "airports_df.info()"
   ],
   "metadata": {
    "collapsed": false,
    "ExecuteTime": {
     "end_time": "2023-11-27T06:24:53.728168Z",
     "start_time": "2023-11-27T06:24:53.721272Z"
    }
   },
   "id": "35c7e758a592e396"
  },
  {
   "cell_type": "code",
   "execution_count": 14,
   "outputs": [
    {
     "name": "stdout",
     "output_type": "stream",
     "text": [
      "<class 'pandas.core.frame.DataFrame'>\n",
      "RangeIndex: 5819079 entries, 0 to 5819078\n",
      "Data columns (total 31 columns):\n",
      " #   Column               Dtype  \n",
      "---  ------               -----  \n",
      " 0   YEAR                 int64  \n",
      " 1   MONTH                int64  \n",
      " 2   DAY                  int64  \n",
      " 3   DAY_OF_WEEK          int64  \n",
      " 4   AIRLINE              object \n",
      " 5   FLIGHT_NUMBER        int64  \n",
      " 6   TAIL_NUMBER          object \n",
      " 7   ORIGIN_AIRPORT       object \n",
      " 8   DESTINATION_AIRPORT  object \n",
      " 9   SCHEDULED_DEPARTURE  int64  \n",
      " 10  DEPARTURE_TIME       float64\n",
      " 11  DEPARTURE_DELAY      float64\n",
      " 12  TAXI_OUT             float64\n",
      " 13  WHEELS_OFF           float64\n",
      " 14  SCHEDULED_TIME       float64\n",
      " 15  ELAPSED_TIME         float64\n",
      " 16  AIR_TIME             float64\n",
      " 17  DISTANCE             int64  \n",
      " 18  WHEELS_ON            float64\n",
      " 19  TAXI_IN              float64\n",
      " 20  SCHEDULED_ARRIVAL    int64  \n",
      " 21  ARRIVAL_TIME         float64\n",
      " 22  ARRIVAL_DELAY        float64\n",
      " 23  DIVERTED             int64  \n",
      " 24  CANCELLED            int64  \n",
      " 25  CANCELLATION_REASON  object \n",
      " 26  AIR_SYSTEM_DELAY     float64\n",
      " 27  SECURITY_DELAY       float64\n",
      " 28  AIRLINE_DELAY        float64\n",
      " 29  LATE_AIRCRAFT_DELAY  float64\n",
      " 30  WEATHER_DELAY        float64\n",
      "dtypes: float64(16), int64(10), object(5)\n",
      "memory usage: 1.3+ GB\n"
     ]
    }
   ],
   "source": [
    "flights_df.info()"
   ],
   "metadata": {
    "collapsed": false,
    "ExecuteTime": {
     "end_time": "2023-11-27T06:24:54.424165Z",
     "start_time": "2023-11-27T06:24:54.416878Z"
    }
   },
   "id": "20e64bfaa570e9af"
  },
  {
   "cell_type": "code",
   "execution_count": null,
   "outputs": [],
   "source": [],
   "metadata": {
    "collapsed": false
   },
   "id": "e741904e62b5a8f5"
  }
 ],
 "metadata": {
  "kernelspec": {
   "display_name": "Python 3",
   "language": "python",
   "name": "python3"
  },
  "language_info": {
   "codemirror_mode": {
    "name": "ipython",
    "version": 2
   },
   "file_extension": ".py",
   "mimetype": "text/x-python",
   "name": "python",
   "nbconvert_exporter": "python",
   "pygments_lexer": "ipython2",
   "version": "2.7.6"
  }
 },
 "nbformat": 4,
 "nbformat_minor": 5
}
